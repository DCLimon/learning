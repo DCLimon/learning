{
 "cells": [
  {
   "cell_type": "markdown",
   "metadata": {
    "collapsed": true
   },
   "source": [
    "Pandas Intro\n",
    "==========\n",
    "\n",
    "What is Pandas?\n",
    "------------------------\n",
    "\n",
    "Pandas is a library with tools to create data structures, perform data analysis, statistics, and basic prep for machine learning. Pandas is involved at every step of data analysis from import to\n",
    "\n",
    "1. Raw data in databased, .xlsx files, .csv files, etc. is imported by Pandas\n",
    "\n",
    "2. Pandas used to process/wrangle data into something usable\n",
    "\n",
    "3. Pandas used for data analysis\n",
    "\n",
    "4. Pandas involved with data visualization (charts)\n",
    "\n",
    "5. Pandas used to create reports, do stats, machine learning -- especially now, Pandas may interact with other libs\n",
    "\n",
    "## Data Structures"
   ]
  },
  {
   "cell_type": "code",
   "execution_count": null,
   "outputs": [],
   "source": [
    "import pandas as pd\n",
    "import numpy as np"
   ],
   "metadata": {
    "collapsed": false,
    "pycharm": {
     "name": "#%%\n"
    }
   }
  },
  {
   "cell_type": "markdown",
   "source": [
    "Pandas uses 2 main data structures: the series, and the dataframe.\n",
    "\n",
    "### Series\n",
    "\n"
   ],
   "metadata": {
    "collapsed": false
   }
  },
  {
   "cell_type": "markdown",
   "metadata": {
    "pycharm": {
     "name": "#%% md\n"
    }
   },
   "source": [
    "Pandas uses 2 main data structures: the series, and the dataframe.\n",
    "\n",
    "### Series\n",
    "\n"
   ]
  },
  {
   "cell_type": "markdown",
   "metadata": {},
   "source": [
    "Pandas uses 2 main data structures: the series, and the dataframe.\n",
    "\n",
    "### Series"
   ]
  }
 ],
 "metadata": {
  "kernelspec": {
   "display_name": "Python 3",
   "language": "python",
   "name": "python3"
  },
  "language_info": {
   "codemirror_mode": {
    "name": "ipython",
    "version": 3
   },
   "file_extension": ".py",
   "mimetype": "text/x-python",
   "name": "python",
   "nbconvert_exporter": "python",
   "pygments_lexer": "ipython3",
   "version": "3.7.3"
  }
 },
 "nbformat": 4,
 "nbformat_minor": 1
}