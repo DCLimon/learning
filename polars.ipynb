{
 "cells": [
  {
   "metadata": {},
   "cell_type": "markdown",
   "source": [
    "# Polars Tutorial\n",
    "\n",
    "* Taken from [Matt Harrison at PyCon 2023](https://www.youtube.com/watch?v=CJ0f45evuME)\n",
    "* [GitHub dataset](https://github.com/mattharrison/datasets/blob/master/data/__mharrison__2020-2021.csv)\n",
    "* Unlike original, I will be using LazyFrame API, where possible\n",
    "\n",
    "## Imports"
   ],
   "id": "772619186dba8bfb"
  },
  {
   "metadata": {
    "ExecuteTime": {
     "end_time": "2025-06-04T18:48:27.126851Z",
     "start_time": "2025-06-04T18:48:27.123521Z"
    }
   },
   "cell_type": "code",
   "source": [
    "import numpy as np\n",
    "import polars as pl\n",
    "import polars.selectors as cs"
   ],
   "id": "54749acf2d40d1de",
   "outputs": [],
   "execution_count": 57
  },
  {
   "metadata": {},
   "cell_type": "markdown",
   "source": [
    "## Load data\n",
    "* `pl.read_csv()` outputs a `DataFrame`\n",
    "* `pl.scan_csv()` outputs a `LazyFrame`"
   ],
   "id": "e45fa309d8abbe44"
  },
  {
   "metadata": {
    "ExecuteTime": {
     "end_time": "2025-06-04T18:48:28.014835Z",
     "start_time": "2025-06-04T18:48:27.145833Z"
    }
   },
   "cell_type": "code",
   "source": [
    "# Load from GitHub repo\n",
    "url = 'https://github.com/mattharrison/datasets/raw/master/data/__mharrison__2020-2021.csv'\n",
    "df = pl.read_csv(url)\n",
    "lf = pl.scan_csv(url)"
   ],
   "id": "e3c1bd4cbab5a326",
   "outputs": [],
   "execution_count": 58
  },
  {
   "metadata": {
    "ExecuteTime": {
     "end_time": "2025-06-04T18:48:28.382294Z",
     "start_time": "2025-06-04T18:48:28.043228Z"
    }
   },
   "cell_type": "code",
   "source": [
    "# df\n",
    "lf.collect()"
   ],
   "id": "f0c0b8f8e3ce6cc0",
   "outputs": [
    {
     "data": {
      "text/plain": [
       "shape: (5_791, 40)\n",
       "┌───────────┬───────────┬───────────┬───────────┬───┬───────────┬───────────┬───────────┬──────────┐\n",
       "│ Tweet id  ┆ Tweet     ┆ Tweet     ┆ time      ┆ … ┆ promoted  ┆ promoted  ┆ promoted  ┆ promoted │\n",
       "│ ---       ┆ permalink ┆ text      ┆ ---       ┆   ┆ email     ┆ dial      ┆ media     ┆ media    │\n",
       "│ i64       ┆ ---       ┆ ---       ┆ str       ┆   ┆ tweet     ┆ phone     ┆ views     ┆ engageme │\n",
       "│           ┆ str       ┆ str       ┆           ┆   ┆ ---       ┆ ---       ┆ ---       ┆ nts      │\n",
       "│           ┆           ┆           ┆           ┆   ┆ str       ┆ str       ┆ str       ┆ ---      │\n",
       "│           ┆           ┆           ┆           ┆   ┆           ┆           ┆           ┆ str      │\n",
       "╞═══════════╪═══════════╪═══════════╪═══════════╪═══╪═══════════╪═══════════╪═══════════╪══════════╡\n",
       "│ 121258051 ┆ https://t ┆ Sounds    ┆ 2020-01-0 ┆ … ┆ null      ┆ null      ┆ null      ┆ null     │\n",
       "│ 790578073 ┆ witter.co ┆ like a    ┆ 2 03:44:0 ┆   ┆           ┆           ┆           ┆          │\n",
       "│ 7         ┆ m/__mharr ┆ great     ┆ 0+00:00   ┆   ┆           ┆           ┆           ┆          │\n",
       "│           ┆ iso…      ┆ topic!    ┆           ┆   ┆           ┆           ┆           ┆          │\n",
       "│           ┆           ┆ htt…      ┆           ┆   ┆           ┆           ┆           ┆          │\n",
       "│ 121258249 ┆ https://t ┆ @FogleBir ┆ 2020-01-0 ┆ … ┆ null      ┆ null      ┆ null      ┆ null     │\n",
       "│ 482803609 ┆ witter.co ┆ d Looks   ┆ 2 03:52:0 ┆   ┆           ┆           ┆           ┆          │\n",
       "│ 7         ┆ m/__mharr ┆ like SLC. ┆ 0+00:00   ┆   ┆           ┆           ┆           ┆          │\n",
       "│           ┆ iso…      ┆ I c…      ┆           ┆   ┆           ┆           ┆           ┆          │\n",
       "│ 121261373 ┆ https://t ┆ @afilina  ┆ 2020-01-0 ┆ … ┆ null      ┆ null      ┆ null      ┆ null     │\n",
       "│ 569869004 ┆ witter.co ┆ That's    ┆ 2 05:56:0 ┆   ┆           ┆           ┆           ┆          │\n",
       "│ 9         ┆ m/__mharr ┆ really    ┆ 0+00:00   ┆   ┆           ┆           ┆           ┆          │\n",
       "│           ┆ iso…      ┆ amount …  ┆           ┆   ┆           ┆           ┆           ┆          │\n",
       "│ 121291174 ┆ https://t ┆ @randal_o ┆ 2020-01-0 ┆ … ┆ null      ┆ null      ┆ null      ┆ null     │\n",
       "│ 961724211 ┆ witter.co ┆ lson I    ┆ 3 01:41:0 ┆   ┆           ┆           ┆           ┆          │\n",
       "│ 3         ┆ m/__mharr ┆ use       ┆ 0+00:00   ┆   ┆           ┆           ┆           ┆          │\n",
       "│           ┆ iso…      ┆ anaconda  ┆           ┆   ┆           ┆           ┆           ┆          │\n",
       "│           ┆           ┆ w…        ┆           ┆   ┆           ┆           ┆           ┆          │\n",
       "│ 121292055 ┆ https://t ┆ @AlSweiga ┆ 2020-01-0 ┆ … ┆ null      ┆ null      ┆ null      ┆ null     │\n",
       "│ 602825216 ┆ witter.co ┆ rt        ┆ 3 02:16:0 ┆   ┆           ┆           ┆           ┆          │\n",
       "│ 0         ┆ m/__mharr ┆ Sometimes ┆ 0+00:00   ┆   ┆           ┆           ┆           ┆          │\n",
       "│           ┆ iso…      ┆ the stud… ┆           ┆   ┆           ┆           ┆           ┆          │\n",
       "│ …         ┆ …         ┆ …         ┆ …         ┆ … ┆ …         ┆ …         ┆ …         ┆ …        │\n",
       "│ 147530066 ┆ https://t ┆ @allison_ ┆ 2021-12-2 ┆ … ┆ null      ┆ null      ┆ null      ┆ null     │\n",
       "│ 185193472 ┆ witter.co ┆ horst     ┆ 7 03:01:0 ┆   ┆           ┆           ┆           ┆          │\n",
       "│ 1         ┆ m/__mharr ┆ That's    ┆ 0+00:00   ┆   ┆           ┆           ┆           ┆          │\n",
       "│           ┆ iso…      ┆ awesome!  ┆           ┆   ┆           ┆           ┆           ┆          │\n",
       "│ 147551814 ┆ https://t ┆ @willmcgu ┆ 2021-12-2 ┆ … ┆ null      ┆ null      ┆ null      ┆ null     │\n",
       "│ 369080115 ┆ witter.co ┆ gan You   ┆ 7 17:25:0 ┆   ┆           ┆           ┆           ┆          │\n",
       "│ 6         ┆ m/__mharr ┆ need to   ┆ 0+00:00   ┆   ┆           ┆           ┆           ┆          │\n",
       "│           ┆ iso…      ┆ find …    ┆           ┆   ┆           ┆           ┆           ┆          │\n",
       "│ 147589144 ┆ https://t ┆ @posco    ┆ 2021-12-2 ┆ … ┆ null      ┆ null      ┆ null      ┆ null     │\n",
       "│ 124302540 ┆ witter.co ┆ Visiting  ┆ 8 18:08:0 ┆   ┆           ┆           ┆           ┆          │\n",
       "│ 8         ┆ m/__mharr ┆ Hawaii    ┆ 0+00:00   ┆   ┆           ┆           ┆           ┆          │\n",
       "│           ┆ iso…      ┆ for the…  ┆           ┆   ┆           ┆           ┆           ┆          │\n",
       "│ 147645381 ┆ https://t ┆ @johndsau ┆ 2021-12-3 ┆ … ┆ null      ┆ null      ┆ null      ┆ null     │\n",
       "│ 975187865 ┆ witter.co ┆ nders My  ┆ 0 07:23:0 ┆   ┆           ┆           ┆           ┆          │\n",
       "│ 6         ┆ m/__mharr ┆ son just  ┆ 0+00:00   ┆   ┆           ┆           ┆           ┆          │\n",
       "│           ┆ iso…      ┆ bui…      ┆           ┆   ┆           ┆           ┆           ┆          │\n",
       "│ 147702472 ┆ https://t ┆ @tunguz   ┆ 2021-12-3 ┆ … ┆ null      ┆ null      ┆ null      ┆ null     │\n",
       "│ 205115801 ┆ witter.co ┆ Xgboost   ┆ 1 21:11:0 ┆   ┆           ┆           ┆           ┆          │\n",
       "│ 8         ┆ m/__mharr ┆           ┆ 0+00:00   ┆   ┆           ┆           ┆           ┆          │\n",
       "│           ┆ iso…      ┆           ┆           ┆   ┆           ┆           ┆           ┆          │\n",
       "└───────────┴───────────┴───────────┴───────────┴───┴───────────┴───────────┴───────────┴──────────┘"
      ],
      "text/html": [
       "<div><style>\n",
       ".dataframe > thead > tr,\n",
       ".dataframe > tbody > tr {\n",
       "  text-align: right;\n",
       "  white-space: pre-wrap;\n",
       "}\n",
       "</style>\n",
       "<small>shape: (5_791, 40)</small><table border=\"1\" class=\"dataframe\"><thead><tr><th>Tweet id</th><th>Tweet permalink</th><th>Tweet text</th><th>time</th><th>impressions</th><th>engagements</th><th>engagement rate</th><th>retweets</th><th>replies</th><th>likes</th><th>user profile clicks</th><th>url clicks</th><th>hashtag clicks</th><th>detail expands</th><th>permalink clicks</th><th>app opens</th><th>app installs</th><th>follows</th><th>email tweet</th><th>dial phone</th><th>media views</th><th>media engagements</th><th>promoted impressions</th><th>promoted engagements</th><th>promoted engagement rate</th><th>promoted retweets</th><th>promoted replies</th><th>promoted likes</th><th>promoted user profile clicks</th><th>promoted url clicks</th><th>promoted hashtag clicks</th><th>promoted detail expands</th><th>promoted permalink clicks</th><th>promoted app opens</th><th>promoted app installs</th><th>promoted follows</th><th>promoted email tweet</th><th>promoted dial phone</th><th>promoted media views</th><th>promoted media engagements</th></tr><tr><td>i64</td><td>str</td><td>str</td><td>str</td><td>f64</td><td>f64</td><td>f64</td><td>f64</td><td>f64</td><td>f64</td><td>f64</td><td>f64</td><td>f64</td><td>f64</td><td>f64</td><td>i64</td><td>i64</td><td>i64</td><td>i64</td><td>i64</td><td>i64</td><td>i64</td><td>str</td><td>str</td><td>str</td><td>str</td><td>str</td><td>str</td><td>str</td><td>str</td><td>str</td><td>str</td><td>str</td><td>str</td><td>str</td><td>str</td><td>str</td><td>str</td><td>str</td><td>str</td></tr></thead><tbody><tr><td>1212580517905780737</td><td>&quot;https://twitter.com/__mharriso…</td><td>&quot;Sounds like a great topic! htt…</td><td>&quot;2020-01-02 03:44:00+00:00&quot;</td><td>1465.0</td><td>7.0</td><td>0.004778</td><td>0.0</td><td>0.0</td><td>3.0</td><td>3.0</td><td>0.0</td><td>0.0</td><td>1.0</td><td>0.0</td><td>0</td><td>0</td><td>0</td><td>0</td><td>0</td><td>0</td><td>0</td><td>null</td><td>null</td><td>null</td><td>null</td><td>null</td><td>null</td><td>null</td><td>null</td><td>null</td><td>null</td><td>null</td><td>null</td><td>null</td><td>null</td><td>null</td><td>null</td><td>null</td><td>null</td></tr><tr><td>1212582494828036097</td><td>&quot;https://twitter.com/__mharriso…</td><td>&quot;@FogleBird Looks like SLC. I c…</td><td>&quot;2020-01-02 03:52:00+00:00&quot;</td><td>154.0</td><td>3.0</td><td>0.019481</td><td>0.0</td><td>0.0</td><td>1.0</td><td>1.0</td><td>0.0</td><td>0.0</td><td>1.0</td><td>0.0</td><td>0</td><td>0</td><td>0</td><td>0</td><td>0</td><td>0</td><td>0</td><td>null</td><td>null</td><td>null</td><td>null</td><td>null</td><td>null</td><td>null</td><td>null</td><td>null</td><td>null</td><td>null</td><td>null</td><td>null</td><td>null</td><td>null</td><td>null</td><td>null</td><td>null</td></tr><tr><td>1212613735698690049</td><td>&quot;https://twitter.com/__mharriso…</td><td>&quot;@afilina That&#x27;s really amount …</td><td>&quot;2020-01-02 05:56:00+00:00&quot;</td><td>1024.0</td><td>6.0</td><td>0.005859</td><td>0.0</td><td>0.0</td><td>1.0</td><td>2.0</td><td>0.0</td><td>0.0</td><td>3.0</td><td>0.0</td><td>0</td><td>0</td><td>0</td><td>0</td><td>0</td><td>0</td><td>0</td><td>null</td><td>null</td><td>null</td><td>null</td><td>null</td><td>null</td><td>null</td><td>null</td><td>null</td><td>null</td><td>null</td><td>null</td><td>null</td><td>null</td><td>null</td><td>null</td><td>null</td><td>null</td></tr><tr><td>1212911749617242113</td><td>&quot;https://twitter.com/__mharriso…</td><td>&quot;@randal_olson I use anaconda w…</td><td>&quot;2020-01-03 01:41:00+00:00&quot;</td><td>1419.0</td><td>14.0</td><td>0.009866</td><td>0.0</td><td>1.0</td><td>5.0</td><td>7.0</td><td>0.0</td><td>0.0</td><td>1.0</td><td>0.0</td><td>0</td><td>0</td><td>0</td><td>0</td><td>0</td><td>0</td><td>0</td><td>null</td><td>null</td><td>null</td><td>null</td><td>null</td><td>null</td><td>null</td><td>null</td><td>null</td><td>null</td><td>null</td><td>null</td><td>null</td><td>null</td><td>null</td><td>null</td><td>null</td><td>null</td></tr><tr><td>1212920556028252160</td><td>&quot;https://twitter.com/__mharriso…</td><td>&quot;@AlSweigart Sometimes the stud…</td><td>&quot;2020-01-03 02:16:00+00:00&quot;</td><td>198.0</td><td>1.0</td><td>0.005051</td><td>0.0</td><td>0.0</td><td>1.0</td><td>0.0</td><td>0.0</td><td>0.0</td><td>0.0</td><td>0.0</td><td>0</td><td>0</td><td>0</td><td>0</td><td>0</td><td>0</td><td>0</td><td>null</td><td>null</td><td>null</td><td>null</td><td>null</td><td>null</td><td>null</td><td>null</td><td>null</td><td>null</td><td>null</td><td>null</td><td>null</td><td>null</td><td>null</td><td>null</td><td>null</td><td>null</td></tr><tr><td>&hellip;</td><td>&hellip;</td><td>&hellip;</td><td>&hellip;</td><td>&hellip;</td><td>&hellip;</td><td>&hellip;</td><td>&hellip;</td><td>&hellip;</td><td>&hellip;</td><td>&hellip;</td><td>&hellip;</td><td>&hellip;</td><td>&hellip;</td><td>&hellip;</td><td>&hellip;</td><td>&hellip;</td><td>&hellip;</td><td>&hellip;</td><td>&hellip;</td><td>&hellip;</td><td>&hellip;</td><td>&hellip;</td><td>&hellip;</td><td>&hellip;</td><td>&hellip;</td><td>&hellip;</td><td>&hellip;</td><td>&hellip;</td><td>&hellip;</td><td>&hellip;</td><td>&hellip;</td><td>&hellip;</td><td>&hellip;</td><td>&hellip;</td><td>&hellip;</td><td>&hellip;</td><td>&hellip;</td><td>&hellip;</td><td>&hellip;</td></tr><tr><td>1475300661851934721</td><td>&quot;https://twitter.com/__mharriso…</td><td>&quot;@allison_horst That&#x27;s awesome!&quot;</td><td>&quot;2021-12-27 03:01:00+00:00&quot;</td><td>986.0</td><td>1.0</td><td>0.001014</td><td>0.0</td><td>0.0</td><td>0.0</td><td>0.0</td><td>0.0</td><td>0.0</td><td>1.0</td><td>0.0</td><td>0</td><td>0</td><td>0</td><td>0</td><td>0</td><td>0</td><td>0</td><td>null</td><td>null</td><td>null</td><td>null</td><td>null</td><td>null</td><td>null</td><td>null</td><td>null</td><td>null</td><td>null</td><td>null</td><td>null</td><td>null</td><td>null</td><td>null</td><td>null</td><td>null</td></tr><tr><td>1475518143690801156</td><td>&quot;https://twitter.com/__mharriso…</td><td>&quot;@willmcgugan You need to find …</td><td>&quot;2021-12-27 17:25:00+00:00&quot;</td><td>1790.0</td><td>7.0</td><td>0.003911</td><td>0.0</td><td>0.0</td><td>3.0</td><td>1.0</td><td>0.0</td><td>0.0</td><td>3.0</td><td>0.0</td><td>0</td><td>0</td><td>0</td><td>0</td><td>0</td><td>0</td><td>0</td><td>null</td><td>null</td><td>null</td><td>null</td><td>null</td><td>null</td><td>null</td><td>null</td><td>null</td><td>null</td><td>null</td><td>null</td><td>null</td><td>null</td><td>null</td><td>null</td><td>null</td><td>null</td></tr><tr><td>1475891441243025408</td><td>&quot;https://twitter.com/__mharriso…</td><td>&quot;@posco Visiting Hawaii for the…</td><td>&quot;2021-12-28 18:08:00+00:00&quot;</td><td>1611.0</td><td>12.0</td><td>0.007449</td><td>0.0</td><td>0.0</td><td>4.0</td><td>4.0</td><td>0.0</td><td>0.0</td><td>4.0</td><td>0.0</td><td>0</td><td>0</td><td>0</td><td>0</td><td>0</td><td>0</td><td>0</td><td>null</td><td>null</td><td>null</td><td>null</td><td>null</td><td>null</td><td>null</td><td>null</td><td>null</td><td>null</td><td>null</td><td>null</td><td>null</td><td>null</td><td>null</td><td>null</td><td>null</td><td>null</td></tr><tr><td>1476453819751878656</td><td>&quot;https://twitter.com/__mharriso…</td><td>&quot;@johndsaunders My son just bui…</td><td>&quot;2021-12-30 07:23:00+00:00&quot;</td><td>1354.0</td><td>8.0</td><td>0.005908</td><td>0.0</td><td>0.0</td><td>2.0</td><td>4.0</td><td>0.0</td><td>0.0</td><td>2.0</td><td>0.0</td><td>0</td><td>0</td><td>0</td><td>0</td><td>0</td><td>0</td><td>0</td><td>null</td><td>null</td><td>null</td><td>null</td><td>null</td><td>null</td><td>null</td><td>null</td><td>null</td><td>null</td><td>null</td><td>null</td><td>null</td><td>null</td><td>null</td><td>null</td><td>null</td><td>null</td></tr><tr><td>1477024722051158018</td><td>&quot;https://twitter.com/__mharriso…</td><td>&quot;@tunguz Xgboost&quot;</td><td>&quot;2021-12-31 21:11:00+00:00&quot;</td><td>5041.0</td><td>63.0</td><td>0.012498</td><td>0.0</td><td>3.0</td><td>23.0</td><td>8.0</td><td>0.0</td><td>0.0</td><td>29.0</td><td>0.0</td><td>0</td><td>0</td><td>0</td><td>0</td><td>0</td><td>0</td><td>0</td><td>null</td><td>null</td><td>null</td><td>null</td><td>null</td><td>null</td><td>null</td><td>null</td><td>null</td><td>null</td><td>null</td><td>null</td><td>null</td><td>null</td><td>null</td><td>null</td><td>null</td><td>null</td></tr></tbody></table></div>"
      ]
     },
     "execution_count": 59,
     "metadata": {},
     "output_type": "execute_result"
    }
   ],
   "execution_count": 59
  },
  {
   "metadata": {
    "ExecuteTime": {
     "end_time": "2025-06-04T18:48:28.415703Z",
     "start_time": "2025-06-04T18:48:28.412360Z"
    }
   },
   "cell_type": "code",
   "source": [
    "# df.columns\n",
    "lf.collect_schema().names()"
   ],
   "id": "6598b0f5103b6d4b",
   "outputs": [
    {
     "data": {
      "text/plain": [
       "['Tweet id',\n",
       " 'Tweet permalink',\n",
       " 'Tweet text',\n",
       " 'time',\n",
       " 'impressions',\n",
       " 'engagements',\n",
       " 'engagement rate',\n",
       " 'retweets',\n",
       " 'replies',\n",
       " 'likes',\n",
       " 'user profile clicks',\n",
       " 'url clicks',\n",
       " 'hashtag clicks',\n",
       " 'detail expands',\n",
       " 'permalink clicks',\n",
       " 'app opens',\n",
       " 'app installs',\n",
       " 'follows',\n",
       " 'email tweet',\n",
       " 'dial phone',\n",
       " 'media views',\n",
       " 'media engagements',\n",
       " 'promoted impressions',\n",
       " 'promoted engagements',\n",
       " 'promoted engagement rate',\n",
       " 'promoted retweets',\n",
       " 'promoted replies',\n",
       " 'promoted likes',\n",
       " 'promoted user profile clicks',\n",
       " 'promoted url clicks',\n",
       " 'promoted hashtag clicks',\n",
       " 'promoted detail expands',\n",
       " 'promoted permalink clicks',\n",
       " 'promoted app opens',\n",
       " 'promoted app installs',\n",
       " 'promoted follows',\n",
       " 'promoted email tweet',\n",
       " 'promoted dial phone',\n",
       " 'promoted media views',\n",
       " 'promoted media engagements']"
      ]
     },
     "execution_count": 60,
     "metadata": {},
     "output_type": "execute_result"
    }
   ],
   "execution_count": 60
  },
  {
   "metadata": {},
   "cell_type": "markdown",
   "source": [
    "In this particular example case, the `.select(x)` method will select `x` rows of the DF at random. Since selecting rows at random requires loading all rows, LFs do not have a `.select()` method.\n",
    "\n",
    "However, `Expr` does have a select method. By using the expression to select all rows (`pl.all()`), we can run the `Expr.sample()` method. Alternatively, you could just convert to a DF via `lf.collect().sample(20)`."
   ],
   "id": "1ca43b453a0811e"
  },
  {
   "metadata": {
    "ExecuteTime": {
     "end_time": "2025-06-04T18:48:28.538871Z",
     "start_time": "2025-06-04T18:48:28.520567Z"
    }
   },
   "cell_type": "code",
   "source": [
    "# Select 20 rows at random\n",
    "\n",
    "# df.sample(20)\n",
    "# lf.collect().sample(20)  # Sample via converting LF to DF\n",
    "lf.select(pl.all().sample(20)).collect()"
   ],
   "id": "dc9165730769c3c7",
   "outputs": [
    {
     "data": {
      "text/plain": [
       "shape: (20, 40)\n",
       "┌───────────┬───────────┬───────────┬───────────┬───┬───────────┬───────────┬───────────┬──────────┐\n",
       "│ Tweet id  ┆ Tweet     ┆ Tweet     ┆ time      ┆ … ┆ promoted  ┆ promoted  ┆ promoted  ┆ promoted │\n",
       "│ ---       ┆ permalink ┆ text      ┆ ---       ┆   ┆ email     ┆ dial      ┆ media     ┆ media    │\n",
       "│ i64       ┆ ---       ┆ ---       ┆ str       ┆   ┆ tweet     ┆ phone     ┆ views     ┆ engageme │\n",
       "│           ┆ str       ┆ str       ┆           ┆   ┆ ---       ┆ ---       ┆ ---       ┆ nts      │\n",
       "│           ┆           ┆           ┆           ┆   ┆ str       ┆ str       ┆ str       ┆ ---      │\n",
       "│           ┆           ┆           ┆           ┆   ┆           ┆           ┆           ┆ str      │\n",
       "╞═══════════╪═══════════╪═══════════╪═══════════╪═══╪═══════════╪═══════════╪═══════════╪══════════╡\n",
       "│ 133778472 ┆ https://t ┆ @fulhack  ┆ 2020-03-1 ┆ … ┆ null      ┆ null      ┆ null      ┆ null     │\n",
       "│ 747482316 ┆ witter.co ┆ Life!     ┆ 7 19:01:0 ┆   ┆           ┆           ┆           ┆          │\n",
       "│ 8         ┆ m/__mharr ┆           ┆ 0+00:00   ┆   ┆           ┆           ┆           ┆          │\n",
       "│           ┆ iso…      ┆           ┆           ┆   ┆           ┆           ┆           ┆          │\n",
       "│ 130230677 ┆ https://t ┆ @dvassall ┆ 2021-09-2 ┆ … ┆ null      ┆ null      ┆ null      ┆ null     │\n",
       "│ 470010163 ┆ witter.co ┆ o Interes ┆ 6 14:25:0 ┆   ┆           ┆           ┆           ┆          │\n",
       "│ 2         ┆ m/__mharr ┆ ting...   ┆ 0+00:00   ┆   ┆           ┆           ┆           ┆          │\n",
       "│           ┆ iso…      ┆ Whic…     ┆           ┆   ┆           ┆           ┆           ┆          │\n",
       "│ 143365088 ┆ https://t ┆ Utah      ┆ 2020-12-2 ┆ … ┆ null      ┆ null      ┆ null      ┆ null     │\n",
       "│ 558268006 ┆ witter.co ┆ #COVID19  ┆ 3 05:49:0 ┆   ┆           ┆           ┆           ┆          │\n",
       "│ 4         ┆ m/__mharr ┆ plot for  ┆ 0+00:00   ┆   ┆           ┆           ┆           ┆          │\n",
       "│           ┆ iso…      ┆ May 5. …  ┆           ┆   ┆           ┆           ┆           ┆          │\n",
       "│ 124070150 ┆ https://t ┆ @sbstnsch ┆ 2020-10-0 ┆ … ┆ null      ┆ null      ┆ null      ┆ null     │\n",
       "│ 693799936 ┆ witter.co ┆ mtthd One ┆ 6 02:45:0 ┆   ┆           ┆           ┆           ┆          │\n",
       "│ 0         ┆ m/__mharr ┆ to import ┆ 0+00:00   ┆   ┆           ┆           ┆           ┆          │\n",
       "│           ┆ iso…      ┆ l…        ┆           ┆   ┆           ┆           ┆           ┆          │\n",
       "│ 135989506 ┆ https://t ┆ @RyanQual ┆ 2020-10-0 ┆ … ┆ null      ┆ null      ┆ null      ┆ null     │\n",
       "│ 042733773 ┆ witter.co ┆ trics     ┆ 2 17:30:0 ┆   ┆           ┆           ┆           ┆          │\n",
       "│ 0         ┆ m/__mharr ┆ Thanks    ┆ 0+00:00   ┆   ┆           ┆           ┆           ┆          │\n",
       "│           ┆ iso…      ┆ for spre… ┆           ┆   ┆           ┆           ┆           ┆          │\n",
       "│ …         ┆ …         ┆ …         ┆ …         ┆ … ┆ …         ┆ …         ┆ …         ┆ …        │\n",
       "│ 123434871 ┆ https://t ┆ My        ┆ 2020-10-2 ┆ … ┆ null      ┆ null      ┆ null      ┆ null     │\n",
       "│ 321821184 ┆ witter.co ┆ company,  ┆ 6 04:47:0 ┆   ┆           ┆           ┆           ┆          │\n",
       "│ 0         ┆ m/__mharr ┆ MetaSnake ┆ 0+00:00   ┆   ┆           ┆           ┆           ┆          │\n",
       "│           ┆ iso…      ┆ , has     ┆           ┆   ┆           ┆           ┆           ┆          │\n",
       "│           ┆           ┆ bee…      ┆           ┆   ┆           ┆           ┆           ┆          │\n",
       "│ 135044767 ┆ https://t ┆ One       ┆ 2021-07-2 ┆ … ┆ null      ┆ null      ┆ null      ┆ null     │\n",
       "│ 977658368 ┆ witter.co ┆ annoying  ┆ 3 13:14:0 ┆   ┆           ┆           ┆           ┆          │\n",
       "│ 6         ┆ m/__mharr ┆ thing     ┆ 0+00:00   ┆   ┆           ┆           ┆           ┆          │\n",
       "│           ┆ iso…      ┆ with      ┆           ┆   ┆           ┆           ┆           ┆          │\n",
       "│           ┆           ┆ pullin…   ┆           ┆   ┆           ┆           ┆           ┆          │\n",
       "│ 146390618 ┆ https://t ┆ @pydanny  ┆ 2020-11-3 ┆ … ┆ null      ┆ null      ┆ null      ┆ null     │\n",
       "│ 350947123 ┆ witter.co ┆ 😢Sounds  ┆ 0 19:14:0 ┆   ┆           ┆           ┆           ┆          │\n",
       "│ 4         ┆ m/__mharr ┆ annoying. ┆ 0+00:00   ┆   ┆           ┆           ┆           ┆          │\n",
       "│           ┆ iso…      ┆ You…      ┆           ┆   ┆           ┆           ┆           ┆          │\n",
       "│ 123354839 ┆ https://t ┆ @jackbutc ┆ 2021-03-2 ┆ … ┆ null      ┆ null      ┆ null      ┆ null     │\n",
       "│ 768186060 ┆ witter.co ┆ her Going ┆ 5 22:51:0 ┆   ┆           ┆           ┆           ┆          │\n",
       "│ 9         ┆ m/__mharr ┆ to make a ┆ 0+00:00   ┆   ┆           ┆           ┆           ┆          │\n",
       "│           ┆ iso…      ┆ l…        ┆           ┆   ┆           ┆           ┆           ┆          │\n",
       "│ 146441745 ┆ https://t ┆ @marlene_ ┆ 2021-06-1 ┆ … ┆ null      ┆ null      ┆ null      ┆ null     │\n",
       "│ 220118118 ┆ witter.co ┆ zw        ┆ 0 16:03:0 ┆   ┆           ┆           ┆           ┆          │\n",
       "│ 4         ┆ m/__mharr ┆ @nvidia   ┆ 0+00:00   ┆   ┆           ┆           ┆           ┆          │\n",
       "│           ┆ iso…      ┆ @rapidsai ┆           ┆   ┆           ┆           ┆           ┆          │\n",
       "│           ┆           ┆ …         ┆           ┆   ┆           ┆           ┆           ┆          │\n",
       "└───────────┴───────────┴───────────┴───────────┴───┴───────────┴───────────┴───────────┴──────────┘"
      ],
      "text/html": [
       "<div><style>\n",
       ".dataframe > thead > tr,\n",
       ".dataframe > tbody > tr {\n",
       "  text-align: right;\n",
       "  white-space: pre-wrap;\n",
       "}\n",
       "</style>\n",
       "<small>shape: (20, 40)</small><table border=\"1\" class=\"dataframe\"><thead><tr><th>Tweet id</th><th>Tweet permalink</th><th>Tweet text</th><th>time</th><th>impressions</th><th>engagements</th><th>engagement rate</th><th>retweets</th><th>replies</th><th>likes</th><th>user profile clicks</th><th>url clicks</th><th>hashtag clicks</th><th>detail expands</th><th>permalink clicks</th><th>app opens</th><th>app installs</th><th>follows</th><th>email tweet</th><th>dial phone</th><th>media views</th><th>media engagements</th><th>promoted impressions</th><th>promoted engagements</th><th>promoted engagement rate</th><th>promoted retweets</th><th>promoted replies</th><th>promoted likes</th><th>promoted user profile clicks</th><th>promoted url clicks</th><th>promoted hashtag clicks</th><th>promoted detail expands</th><th>promoted permalink clicks</th><th>promoted app opens</th><th>promoted app installs</th><th>promoted follows</th><th>promoted email tweet</th><th>promoted dial phone</th><th>promoted media views</th><th>promoted media engagements</th></tr><tr><td>i64</td><td>str</td><td>str</td><td>str</td><td>f64</td><td>f64</td><td>f64</td><td>f64</td><td>f64</td><td>f64</td><td>f64</td><td>f64</td><td>f64</td><td>f64</td><td>f64</td><td>i64</td><td>i64</td><td>i64</td><td>i64</td><td>i64</td><td>i64</td><td>i64</td><td>str</td><td>str</td><td>str</td><td>str</td><td>str</td><td>str</td><td>str</td><td>str</td><td>str</td><td>str</td><td>str</td><td>str</td><td>str</td><td>str</td><td>str</td><td>str</td><td>str</td><td>str</td></tr></thead><tbody><tr><td>1337784727474823168</td><td>&quot;https://twitter.com/__mharriso…</td><td>&quot;@fulhack Life!&quot;</td><td>&quot;2020-03-17 19:01:00+00:00&quot;</td><td>1862.0</td><td>32.0</td><td>0.03125</td><td>0.0</td><td>0.0</td><td>5.0</td><td>4.0</td><td>0.0</td><td>0.0</td><td>0.0</td><td>0.0</td><td>0</td><td>0</td><td>0</td><td>0</td><td>0</td><td>0</td><td>0</td><td>null</td><td>null</td><td>null</td><td>null</td><td>null</td><td>null</td><td>null</td><td>null</td><td>null</td><td>null</td><td>null</td><td>null</td><td>null</td><td>null</td><td>null</td><td>null</td><td>null</td><td>null</td></tr><tr><td>1302306774700101632</td><td>&quot;https://twitter.com/__mharriso…</td><td>&quot;@dvassallo Interesting... Whic…</td><td>&quot;2021-09-26 14:25:00+00:00&quot;</td><td>295.0</td><td>6.0</td><td>0.023853</td><td>0.0</td><td>1.0</td><td>0.0</td><td>5.0</td><td>0.0</td><td>0.0</td><td>5.0</td><td>0.0</td><td>0</td><td>0</td><td>0</td><td>0</td><td>0</td><td>151</td><td>0</td><td>null</td><td>null</td><td>null</td><td>null</td><td>null</td><td>null</td><td>null</td><td>null</td><td>null</td><td>null</td><td>null</td><td>null</td><td>null</td><td>null</td><td>null</td><td>null</td><td>null</td><td>null</td></tr><tr><td>1433650885582680064</td><td>&quot;https://twitter.com/__mharriso…</td><td>&quot;Utah #COVID19 plot for May 5. …</td><td>&quot;2020-12-23 05:49:00+00:00&quot;</td><td>666.0</td><td>209.0</td><td>0.058824</td><td>0.0</td><td>1.0</td><td>1.0</td><td>0.0</td><td>13.0</td><td>0.0</td><td>0.0</td><td>0.0</td><td>0</td><td>0</td><td>0</td><td>0</td><td>0</td><td>0</td><td>0</td><td>null</td><td>null</td><td>null</td><td>null</td><td>null</td><td>null</td><td>null</td><td>null</td><td>null</td><td>null</td><td>null</td><td>null</td><td>null</td><td>null</td><td>null</td><td>null</td><td>null</td><td>null</td></tr><tr><td>1240701506937999360</td><td>&quot;https://twitter.com/__mharriso…</td><td>&quot;@sbstnschmtthd One to import l…</td><td>&quot;2020-10-06 02:45:00+00:00&quot;</td><td>52.0</td><td>2.0</td><td>0.192327</td><td>0.0</td><td>1.0</td><td>0.0</td><td>1.0</td><td>0.0</td><td>0.0</td><td>0.0</td><td>0.0</td><td>0</td><td>0</td><td>0</td><td>0</td><td>0</td><td>0</td><td>0</td><td>null</td><td>null</td><td>null</td><td>null</td><td>null</td><td>null</td><td>null</td><td>null</td><td>null</td><td>null</td><td>null</td><td>null</td><td>null</td><td>null</td><td>null</td><td>null</td><td>null</td><td>null</td></tr><tr><td>1359895060427337730</td><td>&quot;https://twitter.com/__mharriso…</td><td>&quot;@RyanQualtrics Thanks for spre…</td><td>&quot;2020-10-02 17:30:00+00:00&quot;</td><td>2126.0</td><td>0.0</td><td>0.052632</td><td>0.0</td><td>1.0</td><td>3.0</td><td>0.0</td><td>0.0</td><td>0.0</td><td>13.0</td><td>0.0</td><td>0</td><td>0</td><td>0</td><td>0</td><td>0</td><td>0</td><td>0</td><td>null</td><td>null</td><td>null</td><td>null</td><td>null</td><td>null</td><td>null</td><td>null</td><td>null</td><td>null</td><td>null</td><td>null</td><td>null</td><td>null</td><td>null</td><td>null</td><td>null</td><td>null</td></tr><tr><td>&hellip;</td><td>&hellip;</td><td>&hellip;</td><td>&hellip;</td><td>&hellip;</td><td>&hellip;</td><td>&hellip;</td><td>&hellip;</td><td>&hellip;</td><td>&hellip;</td><td>&hellip;</td><td>&hellip;</td><td>&hellip;</td><td>&hellip;</td><td>&hellip;</td><td>&hellip;</td><td>&hellip;</td><td>&hellip;</td><td>&hellip;</td><td>&hellip;</td><td>&hellip;</td><td>&hellip;</td><td>&hellip;</td><td>&hellip;</td><td>&hellip;</td><td>&hellip;</td><td>&hellip;</td><td>&hellip;</td><td>&hellip;</td><td>&hellip;</td><td>&hellip;</td><td>&hellip;</td><td>&hellip;</td><td>&hellip;</td><td>&hellip;</td><td>&hellip;</td><td>&hellip;</td><td>&hellip;</td><td>&hellip;</td><td>&hellip;</td></tr><tr><td>1234348713218211840</td><td>&quot;https://twitter.com/__mharriso…</td><td>&quot;My company, MetaSnake, has bee…</td><td>&quot;2020-10-26 04:47:00+00:00&quot;</td><td>2059.0</td><td>5.0</td><td>0.009298</td><td>0.0</td><td>0.0</td><td>1.0</td><td>1.0</td><td>0.0</td><td>0.0</td><td>1.0</td><td>0.0</td><td>0</td><td>0</td><td>0</td><td>0</td><td>0</td><td>0</td><td>0</td><td>null</td><td>null</td><td>null</td><td>null</td><td>null</td><td>null</td><td>null</td><td>null</td><td>null</td><td>null</td><td>null</td><td>null</td><td>null</td><td>null</td><td>null</td><td>null</td><td>null</td><td>null</td></tr><tr><td>1350447679776583686</td><td>&quot;https://twitter.com/__mharriso…</td><td>&quot;One annoying thing with pullin…</td><td>&quot;2021-07-23 13:14:00+00:00&quot;</td><td>515.0</td><td>5.0</td><td>0.081633</td><td>0.0</td><td>1.0</td><td>4.0</td><td>21.0</td><td>1.0</td><td>0.0</td><td>0.0</td><td>0.0</td><td>0</td><td>0</td><td>0</td><td>0</td><td>0</td><td>165</td><td>0</td><td>null</td><td>null</td><td>null</td><td>null</td><td>null</td><td>null</td><td>null</td><td>null</td><td>null</td><td>null</td><td>null</td><td>null</td><td>null</td><td>null</td><td>null</td><td>null</td><td>null</td><td>null</td></tr><tr><td>1463906183509471234</td><td>&quot;https://twitter.com/__mharriso…</td><td>&quot;@pydanny 😢Sounds annoying. You…</td><td>&quot;2020-11-30 19:14:00+00:00&quot;</td><td>1636.0</td><td>1.0</td><td>0.054545</td><td>0.0</td><td>0.0</td><td>6.0</td><td>0.0</td><td>107.0</td><td>0.0</td><td>5.0</td><td>0.0</td><td>0</td><td>0</td><td>0</td><td>0</td><td>0</td><td>0</td><td>0</td><td>null</td><td>null</td><td>null</td><td>null</td><td>null</td><td>null</td><td>null</td><td>null</td><td>null</td><td>null</td><td>null</td><td>null</td><td>null</td><td>null</td><td>null</td><td>null</td><td>null</td><td>null</td></tr><tr><td>1233548397681860609</td><td>&quot;https://twitter.com/__mharriso…</td><td>&quot;@jackbutcher Going to make a l…</td><td>&quot;2021-03-25 22:51:00+00:00&quot;</td><td>280.0</td><td>59.0</td><td>0.044118</td><td>0.0</td><td>0.0</td><td>2.0</td><td>1.0</td><td>0.0</td><td>0.0</td><td>0.0</td><td>0.0</td><td>0</td><td>0</td><td>0</td><td>0</td><td>0</td><td>0</td><td>0</td><td>null</td><td>null</td><td>null</td><td>null</td><td>null</td><td>null</td><td>null</td><td>null</td><td>null</td><td>null</td><td>null</td><td>null</td><td>null</td><td>null</td><td>null</td><td>null</td><td>null</td><td>null</td></tr><tr><td>1464417452201181184</td><td>&quot;https://twitter.com/__mharriso…</td><td>&quot;@marlene_zw @nvidia @rapidsai …</td><td>&quot;2021-06-10 16:03:00+00:00&quot;</td><td>388.0</td><td>13.0</td><td>0.022535</td><td>2.0</td><td>2.0</td><td>1.0</td><td>0.0</td><td>0.0</td><td>0.0</td><td>81.0</td><td>0.0</td><td>0</td><td>0</td><td>0</td><td>0</td><td>0</td><td>0</td><td>0</td><td>null</td><td>null</td><td>null</td><td>null</td><td>null</td><td>null</td><td>null</td><td>null</td><td>null</td><td>null</td><td>null</td><td>null</td><td>null</td><td>null</td><td>null</td><td>null</td><td>null</td><td>null</td></tr></tbody></table></div>"
      ]
     },
     "execution_count": 61,
     "metadata": {},
     "output_type": "execute_result"
    }
   ],
   "execution_count": 61
  },
  {
   "metadata": {},
   "cell_type": "markdown",
   "source": "LazyFrames also don't know their own shape, so `.shape()` only works on DFs",
   "id": "9c50f788af45de1b"
  },
  {
   "metadata": {
    "ExecuteTime": {
     "end_time": "2025-06-04T18:48:28.645837Z",
     "start_time": "2025-06-04T18:48:28.630158Z"
    }
   },
   "cell_type": "code",
   "source": [
    "# df.shape\n",
    "\n",
    "lf.collect().shape\n",
    "# lf.select(pl.len()).collect()  # row count\n",
    "# len(lf.collect_schema())  # col count"
   ],
   "id": "b51a06409eb1122f",
   "outputs": [
    {
     "data": {
      "text/plain": [
       "(5791, 40)"
      ]
     },
     "execution_count": 62,
     "metadata": {},
     "output_type": "execute_result"
    }
   ],
   "execution_count": 62
  },
  {
   "metadata": {},
   "cell_type": "markdown",
   "source": "## Types",
   "id": "c67b785f63645e3e"
  },
  {
   "metadata": {
    "ExecuteTime": {
     "end_time": "2025-06-04T18:48:28.753089Z",
     "start_time": "2025-06-04T18:48:28.748650Z"
    }
   },
   "cell_type": "code",
   "source": [
    "# df.dtypes\n",
    "lf.collect_schema().dtypes()"
   ],
   "id": "253827933137ccea",
   "outputs": [
    {
     "data": {
      "text/plain": [
       "[Int64,\n",
       " String,\n",
       " String,\n",
       " String,\n",
       " Float64,\n",
       " Float64,\n",
       " Float64,\n",
       " Float64,\n",
       " Float64,\n",
       " Float64,\n",
       " Float64,\n",
       " Float64,\n",
       " Float64,\n",
       " Float64,\n",
       " Float64,\n",
       " Int64,\n",
       " Int64,\n",
       " Int64,\n",
       " Int64,\n",
       " Int64,\n",
       " Int64,\n",
       " Int64,\n",
       " String,\n",
       " String,\n",
       " String,\n",
       " String,\n",
       " String,\n",
       " String,\n",
       " String,\n",
       " String,\n",
       " String,\n",
       " String,\n",
       " String,\n",
       " String,\n",
       " String,\n",
       " String,\n",
       " String,\n",
       " String,\n",
       " String,\n",
       " String]"
      ]
     },
     "execution_count": 63,
     "metadata": {},
     "output_type": "execute_result"
    }
   ],
   "execution_count": 63
  },
  {
   "metadata": {},
   "cell_type": "markdown",
   "source": "LFs have no estimated size b/c they are query plans, not in-memory data storage",
   "id": "6765c8efb6e45d87"
  },
  {
   "metadata": {
    "ExecuteTime": {
     "end_time": "2025-06-04T18:48:28.835360Z",
     "start_time": "2025-06-04T18:48:28.832129Z"
    }
   },
   "cell_type": "code",
   "source": [
    "# Estimated size in MB\n",
    "df.estimated_size() / 10**6"
   ],
   "id": "6b67e87bcdeed44e",
   "outputs": [
    {
     "data": {
      "text/plain": [
       "1.925925"
      ]
     },
     "execution_count": 64,
     "metadata": {},
     "output_type": "execute_result"
    }
   ],
   "execution_count": 64
  },
  {
   "metadata": {
    "ExecuteTime": {
     "end_time": "2025-06-04T18:48:28.904603Z",
     "start_time": "2025-06-04T18:48:28.881787Z"
    }
   },
   "cell_type": "code",
   "source": [
    "# df.describe()\n",
    "lf.describe()"
   ],
   "id": "ea20a87fd4e6a163",
   "outputs": [
    {
     "data": {
      "text/plain": [
       "shape: (9, 41)\n",
       "┌───────────┬───────────┬───────────┬───────────┬───┬───────────┬───────────┬───────────┬──────────┐\n",
       "│ statistic ┆ Tweet id  ┆ Tweet     ┆ Tweet     ┆ … ┆ promoted  ┆ promoted  ┆ promoted  ┆ promoted │\n",
       "│ ---       ┆ ---       ┆ permalink ┆ text      ┆   ┆ email     ┆ dial      ┆ media     ┆ media    │\n",
       "│ str       ┆ f64       ┆ ---       ┆ ---       ┆   ┆ tweet     ┆ phone     ┆ views     ┆ engageme │\n",
       "│           ┆           ┆ str       ┆ str       ┆   ┆ ---       ┆ ---       ┆ ---       ┆ nts      │\n",
       "│           ┆           ┆           ┆           ┆   ┆ str       ┆ str       ┆ str       ┆ ---      │\n",
       "│           ┆           ┆           ┆           ┆   ┆           ┆           ┆           ┆ str      │\n",
       "╞═══════════╪═══════════╪═══════════╪═══════════╪═══╪═══════════╪═══════════╪═══════════╪══════════╡\n",
       "│ count     ┆ 5791.0    ┆ 5791      ┆ 5791      ┆ … ┆ 0         ┆ 0         ┆ 0         ┆ 0        │\n",
       "│ null_coun ┆ 0.0       ┆ 0         ┆ 0         ┆ … ┆ 5791      ┆ 5791      ┆ 5791      ┆ 5791     │\n",
       "│ t         ┆           ┆           ┆           ┆   ┆           ┆           ┆           ┆          │\n",
       "│ mean      ┆ 1.3604e18 ┆ null      ┆ null      ┆ … ┆ null      ┆ null      ┆ null      ┆ null     │\n",
       "│ std       ┆ 6.8508e16 ┆ null      ┆ null      ┆ … ┆ null      ┆ null      ┆ null      ┆ null     │\n",
       "│ min       ┆ 1.2126e18 ┆ https://t ┆ \"i\" has a ┆ … ┆ null      ┆ null      ┆ null      ┆ null     │\n",
       "│           ┆           ┆ witter.co ┆ specific  ┆   ┆           ┆           ┆           ┆          │\n",
       "│           ┆           ┆ m/__mharr ┆ connotati ┆   ┆           ┆           ┆           ┆          │\n",
       "│           ┆           ┆ iso…      ┆ on…       ┆   ┆           ┆           ┆           ┆          │\n",
       "│ 25%       ┆ 1.3142e18 ┆ null      ┆ null      ┆ … ┆ null      ┆ null      ┆ null      ┆ null     │\n",
       "│ 50%       ┆ 1.3589e18 ┆ null      ┆ null      ┆ … ┆ null      ┆ null      ┆ null      ┆ null     │\n",
       "│ 75%       ┆ 1.4155e18 ┆ null      ┆ null      ┆ … ┆ null      ┆ null      ┆ null      ┆ null     │\n",
       "│ max       ┆ 1.4770e18 ┆ https://t ┆ 🤯🙏 http ┆ … ┆ null      ┆ null      ┆ null      ┆ null     │\n",
       "│           ┆           ┆ witter.co ┆ s://t.co/ ┆   ┆           ┆           ┆           ┆          │\n",
       "│           ┆           ┆ m/__mharr ┆ AsLaS3Hrd ┆   ┆           ┆           ┆           ┆          │\n",
       "│           ┆           ┆ iso…      ┆ v         ┆   ┆           ┆           ┆           ┆          │\n",
       "└───────────┴───────────┴───────────┴───────────┴───┴───────────┴───────────┴───────────┴──────────┘"
      ],
      "text/html": [
       "<div><style>\n",
       ".dataframe > thead > tr,\n",
       ".dataframe > tbody > tr {\n",
       "  text-align: right;\n",
       "  white-space: pre-wrap;\n",
       "}\n",
       "</style>\n",
       "<small>shape: (9, 41)</small><table border=\"1\" class=\"dataframe\"><thead><tr><th>statistic</th><th>Tweet id</th><th>Tweet permalink</th><th>Tweet text</th><th>time</th><th>impressions</th><th>engagements</th><th>engagement rate</th><th>retweets</th><th>replies</th><th>likes</th><th>user profile clicks</th><th>url clicks</th><th>hashtag clicks</th><th>detail expands</th><th>permalink clicks</th><th>app opens</th><th>app installs</th><th>follows</th><th>email tweet</th><th>dial phone</th><th>media views</th><th>media engagements</th><th>promoted impressions</th><th>promoted engagements</th><th>promoted engagement rate</th><th>promoted retweets</th><th>promoted replies</th><th>promoted likes</th><th>promoted user profile clicks</th><th>promoted url clicks</th><th>promoted hashtag clicks</th><th>promoted detail expands</th><th>promoted permalink clicks</th><th>promoted app opens</th><th>promoted app installs</th><th>promoted follows</th><th>promoted email tweet</th><th>promoted dial phone</th><th>promoted media views</th><th>promoted media engagements</th></tr><tr><td>str</td><td>f64</td><td>str</td><td>str</td><td>str</td><td>f64</td><td>f64</td><td>f64</td><td>f64</td><td>f64</td><td>f64</td><td>f64</td><td>f64</td><td>f64</td><td>f64</td><td>f64</td><td>f64</td><td>f64</td><td>f64</td><td>f64</td><td>f64</td><td>f64</td><td>f64</td><td>str</td><td>str</td><td>str</td><td>str</td><td>str</td><td>str</td><td>str</td><td>str</td><td>str</td><td>str</td><td>str</td><td>str</td><td>str</td><td>str</td><td>str</td><td>str</td><td>str</td><td>str</td></tr></thead><tbody><tr><td>&quot;count&quot;</td><td>5791.0</td><td>&quot;5791&quot;</td><td>&quot;5791&quot;</td><td>&quot;5791&quot;</td><td>5791.0</td><td>5791.0</td><td>5791.0</td><td>5791.0</td><td>5791.0</td><td>5791.0</td><td>5791.0</td><td>5791.0</td><td>5791.0</td><td>5791.0</td><td>5791.0</td><td>5791.0</td><td>5791.0</td><td>5791.0</td><td>5791.0</td><td>5791.0</td><td>5791.0</td><td>5791.0</td><td>&quot;0&quot;</td><td>&quot;0&quot;</td><td>&quot;0&quot;</td><td>&quot;0&quot;</td><td>&quot;0&quot;</td><td>&quot;0&quot;</td><td>&quot;0&quot;</td><td>&quot;0&quot;</td><td>&quot;0&quot;</td><td>&quot;0&quot;</td><td>&quot;0&quot;</td><td>&quot;0&quot;</td><td>&quot;0&quot;</td><td>&quot;0&quot;</td><td>&quot;0&quot;</td><td>&quot;0&quot;</td><td>&quot;0&quot;</td><td>&quot;0&quot;</td></tr><tr><td>&quot;null_count&quot;</td><td>0.0</td><td>&quot;0&quot;</td><td>&quot;0&quot;</td><td>&quot;0&quot;</td><td>0.0</td><td>0.0</td><td>0.0</td><td>0.0</td><td>0.0</td><td>0.0</td><td>0.0</td><td>0.0</td><td>0.0</td><td>0.0</td><td>0.0</td><td>0.0</td><td>0.0</td><td>0.0</td><td>0.0</td><td>0.0</td><td>0.0</td><td>0.0</td><td>&quot;5791&quot;</td><td>&quot;5791&quot;</td><td>&quot;5791&quot;</td><td>&quot;5791&quot;</td><td>&quot;5791&quot;</td><td>&quot;5791&quot;</td><td>&quot;5791&quot;</td><td>&quot;5791&quot;</td><td>&quot;5791&quot;</td><td>&quot;5791&quot;</td><td>&quot;5791&quot;</td><td>&quot;5791&quot;</td><td>&quot;5791&quot;</td><td>&quot;5791&quot;</td><td>&quot;5791&quot;</td><td>&quot;5791&quot;</td><td>&quot;5791&quot;</td><td>&quot;5791&quot;</td></tr><tr><td>&quot;mean&quot;</td><td>1.3604e18</td><td>null</td><td>null</td><td>null</td><td>2297.820411</td><td>111.400967</td><td>0.034748</td><td>0.979796</td><td>1.124504</td><td>9.400622</td><td>20.594543</td><td>4.502331</td><td>0.019686</td><td>34.658436</td><td>0.0</td><td>0.001036</td><td>0.0</td><td>0.135901</td><td>0.0</td><td>0.0</td><td>39.868935</td><td>39.712485</td><td>null</td><td>null</td><td>null</td><td>null</td><td>null</td><td>null</td><td>null</td><td>null</td><td>null</td><td>null</td><td>null</td><td>null</td><td>null</td><td>null</td><td>null</td><td>null</td><td>null</td><td>null</td></tr><tr><td>&quot;std&quot;</td><td>6.8508e16</td><td>null</td><td>null</td><td>null</td><td>16414.560844</td><td>976.353689</td><td>0.050031</td><td>10.903919</td><td>6.322059</td><td>108.117865</td><td>436.521415</td><td>32.377223</td><td>0.302481</td><td>355.671163</td><td>0.0</td><td>0.045513</td><td>0.0</td><td>3.870531</td><td>0.0</td><td>0.0</td><td>333.838003</td><td>333.753866</td><td>null</td><td>null</td><td>null</td><td>null</td><td>null</td><td>null</td><td>null</td><td>null</td><td>null</td><td>null</td><td>null</td><td>null</td><td>null</td><td>null</td><td>null</td><td>null</td><td>null</td><td>null</td></tr><tr><td>&quot;min&quot;</td><td>1.2126e18</td><td>&quot;https://twitter.com/__mharriso…</td><td>&quot;&quot;i&quot; has a specific connotation…</td><td>&quot;2020-01-02 03:44:00+00:00&quot;</td><td>7.0</td><td>0.0</td><td>0.0</td><td>0.0</td><td>0.0</td><td>0.0</td><td>0.0</td><td>0.0</td><td>0.0</td><td>0.0</td><td>0.0</td><td>0.0</td><td>0.0</td><td>0.0</td><td>0.0</td><td>0.0</td><td>0.0</td><td>0.0</td><td>null</td><td>null</td><td>null</td><td>null</td><td>null</td><td>null</td><td>null</td><td>null</td><td>null</td><td>null</td><td>null</td><td>null</td><td>null</td><td>null</td><td>null</td><td>null</td><td>null</td><td>null</td></tr><tr><td>&quot;25%&quot;</td><td>1.3142e18</td><td>null</td><td>null</td><td>null</td><td>175.0</td><td>3.0</td><td>0.007064</td><td>0.0</td><td>0.0</td><td>0.0</td><td>0.0</td><td>0.0</td><td>0.0</td><td>1.0</td><td>0.0</td><td>0.0</td><td>0.0</td><td>0.0</td><td>0.0</td><td>0.0</td><td>0.0</td><td>0.0</td><td>null</td><td>null</td><td>null</td><td>null</td><td>null</td><td>null</td><td>null</td><td>null</td><td>null</td><td>null</td><td>null</td><td>null</td><td>null</td><td>null</td><td>null</td><td>null</td><td>null</td><td>null</td></tr><tr><td>&quot;50%&quot;</td><td>1.3589e18</td><td>null</td><td>null</td><td>null</td><td>612.0</td><td>7.0</td><td>0.016043</td><td>0.0</td><td>0.0</td><td>1.0</td><td>1.0</td><td>0.0</td><td>0.0</td><td>3.0</td><td>0.0</td><td>0.0</td><td>0.0</td><td>0.0</td><td>0.0</td><td>0.0</td><td>0.0</td><td>0.0</td><td>null</td><td>null</td><td>null</td><td>null</td><td>null</td><td>null</td><td>null</td><td>null</td><td>null</td><td>null</td><td>null</td><td>null</td><td>null</td><td>null</td><td>null</td><td>null</td><td>null</td><td>null</td></tr><tr><td>&quot;75%&quot;</td><td>1.4155e18</td><td>null</td><td>null</td><td>null</td><td>1617.0</td><td>25.0</td><td>0.040902</td><td>0.0</td><td>1.0</td><td>4.0</td><td>4.0</td><td>0.0</td><td>0.0</td><td>8.0</td><td>0.0</td><td>0.0</td><td>0.0</td><td>0.0</td><td>0.0</td><td>0.0</td><td>0.0</td><td>0.0</td><td>null</td><td>null</td><td>null</td><td>null</td><td>null</td><td>null</td><td>null</td><td>null</td><td>null</td><td>null</td><td>null</td><td>null</td><td>null</td><td>null</td><td>null</td><td>null</td><td>null</td><td>null</td></tr><tr><td>&quot;max&quot;</td><td>1.4770e18</td><td>&quot;https://twitter.com/__mharriso…</td><td>&quot;🤯🙏 https://t.co/AsLaS3Hrdv&quot;</td><td>&quot;2021-12-31 21:11:00+00:00&quot;</td><td>856749.0</td><td>45660.0</td><td>0.484127</td><td>465.0</td><td>207.0</td><td>5358.0</td><td>22393.0</td><td>1272.0</td><td>12.0</td><td>17078.0</td><td>0.0</td><td>3.0</td><td>0.0</td><td>191.0</td><td>0.0</td><td>0.0</td><td>16816.0</td><td>16816.0</td><td>null</td><td>null</td><td>null</td><td>null</td><td>null</td><td>null</td><td>null</td><td>null</td><td>null</td><td>null</td><td>null</td><td>null</td><td>null</td><td>null</td><td>null</td><td>null</td><td>null</td><td>null</td></tr></tbody></table></div>"
      ]
     },
     "execution_count": 65,
     "metadata": {},
     "output_type": "execute_result"
    }
   ],
   "execution_count": 65
  },
  {
   "metadata": {
    "ExecuteTime": {
     "end_time": "2025-06-04T18:48:28.976163Z",
     "start_time": "2025-06-04T18:48:28.963117Z"
    }
   },
   "cell_type": "code",
   "source": [
    "# Find the 25th percentile of each column\n",
    "\n",
    "# df.quantile(0.25)\n",
    "lf.quantile(0.25).collect()"
   ],
   "id": "256762761be2206e",
   "outputs": [
    {
     "data": {
      "text/plain": [
       "shape: (1, 40)\n",
       "┌───────────┬─────────────┬───────┬──────┬───┬─────────────┬─────────────┬────────────┬────────────┐\n",
       "│ Tweet id  ┆ Tweet       ┆ Tweet ┆ time ┆ … ┆ promoted    ┆ promoted    ┆ promoted   ┆ promoted   │\n",
       "│ ---       ┆ permalink   ┆ text  ┆ ---  ┆   ┆ email tweet ┆ dial phone  ┆ media      ┆ media enga │\n",
       "│ f64       ┆ ---         ┆ ---   ┆ str  ┆   ┆ ---         ┆ ---         ┆ views      ┆ gements    │\n",
       "│           ┆ str         ┆ str   ┆      ┆   ┆ str         ┆ str         ┆ ---        ┆ ---        │\n",
       "│           ┆             ┆       ┆      ┆   ┆             ┆             ┆ str        ┆ str        │\n",
       "╞═══════════╪═════════════╪═══════╪══════╪═══╪═════════════╪═════════════╪════════════╪════════════╡\n",
       "│ 1.3142e18 ┆ null        ┆ null  ┆ null ┆ … ┆ null        ┆ null        ┆ null       ┆ null       │\n",
       "└───────────┴─────────────┴───────┴──────┴───┴─────────────┴─────────────┴────────────┴────────────┘"
      ],
      "text/html": [
       "<div><style>\n",
       ".dataframe > thead > tr,\n",
       ".dataframe > tbody > tr {\n",
       "  text-align: right;\n",
       "  white-space: pre-wrap;\n",
       "}\n",
       "</style>\n",
       "<small>shape: (1, 40)</small><table border=\"1\" class=\"dataframe\"><thead><tr><th>Tweet id</th><th>Tweet permalink</th><th>Tweet text</th><th>time</th><th>impressions</th><th>engagements</th><th>engagement rate</th><th>retweets</th><th>replies</th><th>likes</th><th>user profile clicks</th><th>url clicks</th><th>hashtag clicks</th><th>detail expands</th><th>permalink clicks</th><th>app opens</th><th>app installs</th><th>follows</th><th>email tweet</th><th>dial phone</th><th>media views</th><th>media engagements</th><th>promoted impressions</th><th>promoted engagements</th><th>promoted engagement rate</th><th>promoted retweets</th><th>promoted replies</th><th>promoted likes</th><th>promoted user profile clicks</th><th>promoted url clicks</th><th>promoted hashtag clicks</th><th>promoted detail expands</th><th>promoted permalink clicks</th><th>promoted app opens</th><th>promoted app installs</th><th>promoted follows</th><th>promoted email tweet</th><th>promoted dial phone</th><th>promoted media views</th><th>promoted media engagements</th></tr><tr><td>f64</td><td>str</td><td>str</td><td>str</td><td>f64</td><td>f64</td><td>f64</td><td>f64</td><td>f64</td><td>f64</td><td>f64</td><td>f64</td><td>f64</td><td>f64</td><td>f64</td><td>f64</td><td>f64</td><td>f64</td><td>f64</td><td>f64</td><td>f64</td><td>f64</td><td>str</td><td>str</td><td>str</td><td>str</td><td>str</td><td>str</td><td>str</td><td>str</td><td>str</td><td>str</td><td>str</td><td>str</td><td>str</td><td>str</td><td>str</td><td>str</td><td>str</td><td>str</td></tr></thead><tbody><tr><td>1.3142e18</td><td>null</td><td>null</td><td>null</td><td>175.0</td><td>3.0</td><td>0.007064</td><td>0.0</td><td>0.0</td><td>0.0</td><td>0.0</td><td>0.0</td><td>0.0</td><td>1.0</td><td>0.0</td><td>0.0</td><td>0.0</td><td>0.0</td><td>0.0</td><td>0.0</td><td>0.0</td><td>0.0</td><td>null</td><td>null</td><td>null</td><td>null</td><td>null</td><td>null</td><td>null</td><td>null</td><td>null</td><td>null</td><td>null</td><td>null</td><td>null</td><td>null</td><td>null</td><td>null</td><td>null</td><td>null</td></tr></tbody></table></div>"
      ]
     },
     "execution_count": 66,
     "metadata": {},
     "output_type": "execute_result"
    }
   ],
   "execution_count": 66
  },
  {
   "metadata": {},
   "cell_type": "markdown",
   "source": "Whereas in Pandas the DF & contained data itself is manipulated, in Polars we use expressions so that Polars can create a query plan. So, in Polars its generally better to build out expressions that can be run in parallel, rather than sequential chains like in Pandas.",
   "id": "d49c82f2dd8b2dc1"
  },
  {
   "metadata": {
    "ExecuteTime": {
     "end_time": "2025-06-04T18:48:29.155690Z",
     "start_time": "2025-06-04T18:48:29.139573Z"
    }
   },
   "cell_type": "code",
   "source": [
    "# Select all columns\n",
    "\n",
    "# df.select(pl.all())  # Preferred over df.select(pl.col('*'))\n",
    "lf.select(pl.all()).collect()  # Preferred over lf.select(pl.col('*'))"
   ],
   "id": "fd776a581d5b0ca1",
   "outputs": [
    {
     "data": {
      "text/plain": [
       "shape: (5_791, 40)\n",
       "┌───────────┬───────────┬───────────┬───────────┬───┬───────────┬───────────┬───────────┬──────────┐\n",
       "│ Tweet id  ┆ Tweet     ┆ Tweet     ┆ time      ┆ … ┆ promoted  ┆ promoted  ┆ promoted  ┆ promoted │\n",
       "│ ---       ┆ permalink ┆ text      ┆ ---       ┆   ┆ email     ┆ dial      ┆ media     ┆ media    │\n",
       "│ i64       ┆ ---       ┆ ---       ┆ str       ┆   ┆ tweet     ┆ phone     ┆ views     ┆ engageme │\n",
       "│           ┆ str       ┆ str       ┆           ┆   ┆ ---       ┆ ---       ┆ ---       ┆ nts      │\n",
       "│           ┆           ┆           ┆           ┆   ┆ str       ┆ str       ┆ str       ┆ ---      │\n",
       "│           ┆           ┆           ┆           ┆   ┆           ┆           ┆           ┆ str      │\n",
       "╞═══════════╪═══════════╪═══════════╪═══════════╪═══╪═══════════╪═══════════╪═══════════╪══════════╡\n",
       "│ 121258051 ┆ https://t ┆ Sounds    ┆ 2020-01-0 ┆ … ┆ null      ┆ null      ┆ null      ┆ null     │\n",
       "│ 790578073 ┆ witter.co ┆ like a    ┆ 2 03:44:0 ┆   ┆           ┆           ┆           ┆          │\n",
       "│ 7         ┆ m/__mharr ┆ great     ┆ 0+00:00   ┆   ┆           ┆           ┆           ┆          │\n",
       "│           ┆ iso…      ┆ topic!    ┆           ┆   ┆           ┆           ┆           ┆          │\n",
       "│           ┆           ┆ htt…      ┆           ┆   ┆           ┆           ┆           ┆          │\n",
       "│ 121258249 ┆ https://t ┆ @FogleBir ┆ 2020-01-0 ┆ … ┆ null      ┆ null      ┆ null      ┆ null     │\n",
       "│ 482803609 ┆ witter.co ┆ d Looks   ┆ 2 03:52:0 ┆   ┆           ┆           ┆           ┆          │\n",
       "│ 7         ┆ m/__mharr ┆ like SLC. ┆ 0+00:00   ┆   ┆           ┆           ┆           ┆          │\n",
       "│           ┆ iso…      ┆ I c…      ┆           ┆   ┆           ┆           ┆           ┆          │\n",
       "│ 121261373 ┆ https://t ┆ @afilina  ┆ 2020-01-0 ┆ … ┆ null      ┆ null      ┆ null      ┆ null     │\n",
       "│ 569869004 ┆ witter.co ┆ That's    ┆ 2 05:56:0 ┆   ┆           ┆           ┆           ┆          │\n",
       "│ 9         ┆ m/__mharr ┆ really    ┆ 0+00:00   ┆   ┆           ┆           ┆           ┆          │\n",
       "│           ┆ iso…      ┆ amount …  ┆           ┆   ┆           ┆           ┆           ┆          │\n",
       "│ 121291174 ┆ https://t ┆ @randal_o ┆ 2020-01-0 ┆ … ┆ null      ┆ null      ┆ null      ┆ null     │\n",
       "│ 961724211 ┆ witter.co ┆ lson I    ┆ 3 01:41:0 ┆   ┆           ┆           ┆           ┆          │\n",
       "│ 3         ┆ m/__mharr ┆ use       ┆ 0+00:00   ┆   ┆           ┆           ┆           ┆          │\n",
       "│           ┆ iso…      ┆ anaconda  ┆           ┆   ┆           ┆           ┆           ┆          │\n",
       "│           ┆           ┆ w…        ┆           ┆   ┆           ┆           ┆           ┆          │\n",
       "│ 121292055 ┆ https://t ┆ @AlSweiga ┆ 2020-01-0 ┆ … ┆ null      ┆ null      ┆ null      ┆ null     │\n",
       "│ 602825216 ┆ witter.co ┆ rt        ┆ 3 02:16:0 ┆   ┆           ┆           ┆           ┆          │\n",
       "│ 0         ┆ m/__mharr ┆ Sometimes ┆ 0+00:00   ┆   ┆           ┆           ┆           ┆          │\n",
       "│           ┆ iso…      ┆ the stud… ┆           ┆   ┆           ┆           ┆           ┆          │\n",
       "│ …         ┆ …         ┆ …         ┆ …         ┆ … ┆ …         ┆ …         ┆ …         ┆ …        │\n",
       "│ 147530066 ┆ https://t ┆ @allison_ ┆ 2021-12-2 ┆ … ┆ null      ┆ null      ┆ null      ┆ null     │\n",
       "│ 185193472 ┆ witter.co ┆ horst     ┆ 7 03:01:0 ┆   ┆           ┆           ┆           ┆          │\n",
       "│ 1         ┆ m/__mharr ┆ That's    ┆ 0+00:00   ┆   ┆           ┆           ┆           ┆          │\n",
       "│           ┆ iso…      ┆ awesome!  ┆           ┆   ┆           ┆           ┆           ┆          │\n",
       "│ 147551814 ┆ https://t ┆ @willmcgu ┆ 2021-12-2 ┆ … ┆ null      ┆ null      ┆ null      ┆ null     │\n",
       "│ 369080115 ┆ witter.co ┆ gan You   ┆ 7 17:25:0 ┆   ┆           ┆           ┆           ┆          │\n",
       "│ 6         ┆ m/__mharr ┆ need to   ┆ 0+00:00   ┆   ┆           ┆           ┆           ┆          │\n",
       "│           ┆ iso…      ┆ find …    ┆           ┆   ┆           ┆           ┆           ┆          │\n",
       "│ 147589144 ┆ https://t ┆ @posco    ┆ 2021-12-2 ┆ … ┆ null      ┆ null      ┆ null      ┆ null     │\n",
       "│ 124302540 ┆ witter.co ┆ Visiting  ┆ 8 18:08:0 ┆   ┆           ┆           ┆           ┆          │\n",
       "│ 8         ┆ m/__mharr ┆ Hawaii    ┆ 0+00:00   ┆   ┆           ┆           ┆           ┆          │\n",
       "│           ┆ iso…      ┆ for the…  ┆           ┆   ┆           ┆           ┆           ┆          │\n",
       "│ 147645381 ┆ https://t ┆ @johndsau ┆ 2021-12-3 ┆ … ┆ null      ┆ null      ┆ null      ┆ null     │\n",
       "│ 975187865 ┆ witter.co ┆ nders My  ┆ 0 07:23:0 ┆   ┆           ┆           ┆           ┆          │\n",
       "│ 6         ┆ m/__mharr ┆ son just  ┆ 0+00:00   ┆   ┆           ┆           ┆           ┆          │\n",
       "│           ┆ iso…      ┆ bui…      ┆           ┆   ┆           ┆           ┆           ┆          │\n",
       "│ 147702472 ┆ https://t ┆ @tunguz   ┆ 2021-12-3 ┆ … ┆ null      ┆ null      ┆ null      ┆ null     │\n",
       "│ 205115801 ┆ witter.co ┆ Xgboost   ┆ 1 21:11:0 ┆   ┆           ┆           ┆           ┆          │\n",
       "│ 8         ┆ m/__mharr ┆           ┆ 0+00:00   ┆   ┆           ┆           ┆           ┆          │\n",
       "│           ┆ iso…      ┆           ┆           ┆   ┆           ┆           ┆           ┆          │\n",
       "└───────────┴───────────┴───────────┴───────────┴───┴───────────┴───────────┴───────────┴──────────┘"
      ],
      "text/html": [
       "<div><style>\n",
       ".dataframe > thead > tr,\n",
       ".dataframe > tbody > tr {\n",
       "  text-align: right;\n",
       "  white-space: pre-wrap;\n",
       "}\n",
       "</style>\n",
       "<small>shape: (5_791, 40)</small><table border=\"1\" class=\"dataframe\"><thead><tr><th>Tweet id</th><th>Tweet permalink</th><th>Tweet text</th><th>time</th><th>impressions</th><th>engagements</th><th>engagement rate</th><th>retweets</th><th>replies</th><th>likes</th><th>user profile clicks</th><th>url clicks</th><th>hashtag clicks</th><th>detail expands</th><th>permalink clicks</th><th>app opens</th><th>app installs</th><th>follows</th><th>email tweet</th><th>dial phone</th><th>media views</th><th>media engagements</th><th>promoted impressions</th><th>promoted engagements</th><th>promoted engagement rate</th><th>promoted retweets</th><th>promoted replies</th><th>promoted likes</th><th>promoted user profile clicks</th><th>promoted url clicks</th><th>promoted hashtag clicks</th><th>promoted detail expands</th><th>promoted permalink clicks</th><th>promoted app opens</th><th>promoted app installs</th><th>promoted follows</th><th>promoted email tweet</th><th>promoted dial phone</th><th>promoted media views</th><th>promoted media engagements</th></tr><tr><td>i64</td><td>str</td><td>str</td><td>str</td><td>f64</td><td>f64</td><td>f64</td><td>f64</td><td>f64</td><td>f64</td><td>f64</td><td>f64</td><td>f64</td><td>f64</td><td>f64</td><td>i64</td><td>i64</td><td>i64</td><td>i64</td><td>i64</td><td>i64</td><td>i64</td><td>str</td><td>str</td><td>str</td><td>str</td><td>str</td><td>str</td><td>str</td><td>str</td><td>str</td><td>str</td><td>str</td><td>str</td><td>str</td><td>str</td><td>str</td><td>str</td><td>str</td><td>str</td></tr></thead><tbody><tr><td>1212580517905780737</td><td>&quot;https://twitter.com/__mharriso…</td><td>&quot;Sounds like a great topic! htt…</td><td>&quot;2020-01-02 03:44:00+00:00&quot;</td><td>1465.0</td><td>7.0</td><td>0.004778</td><td>0.0</td><td>0.0</td><td>3.0</td><td>3.0</td><td>0.0</td><td>0.0</td><td>1.0</td><td>0.0</td><td>0</td><td>0</td><td>0</td><td>0</td><td>0</td><td>0</td><td>0</td><td>null</td><td>null</td><td>null</td><td>null</td><td>null</td><td>null</td><td>null</td><td>null</td><td>null</td><td>null</td><td>null</td><td>null</td><td>null</td><td>null</td><td>null</td><td>null</td><td>null</td><td>null</td></tr><tr><td>1212582494828036097</td><td>&quot;https://twitter.com/__mharriso…</td><td>&quot;@FogleBird Looks like SLC. I c…</td><td>&quot;2020-01-02 03:52:00+00:00&quot;</td><td>154.0</td><td>3.0</td><td>0.019481</td><td>0.0</td><td>0.0</td><td>1.0</td><td>1.0</td><td>0.0</td><td>0.0</td><td>1.0</td><td>0.0</td><td>0</td><td>0</td><td>0</td><td>0</td><td>0</td><td>0</td><td>0</td><td>null</td><td>null</td><td>null</td><td>null</td><td>null</td><td>null</td><td>null</td><td>null</td><td>null</td><td>null</td><td>null</td><td>null</td><td>null</td><td>null</td><td>null</td><td>null</td><td>null</td><td>null</td></tr><tr><td>1212613735698690049</td><td>&quot;https://twitter.com/__mharriso…</td><td>&quot;@afilina That&#x27;s really amount …</td><td>&quot;2020-01-02 05:56:00+00:00&quot;</td><td>1024.0</td><td>6.0</td><td>0.005859</td><td>0.0</td><td>0.0</td><td>1.0</td><td>2.0</td><td>0.0</td><td>0.0</td><td>3.0</td><td>0.0</td><td>0</td><td>0</td><td>0</td><td>0</td><td>0</td><td>0</td><td>0</td><td>null</td><td>null</td><td>null</td><td>null</td><td>null</td><td>null</td><td>null</td><td>null</td><td>null</td><td>null</td><td>null</td><td>null</td><td>null</td><td>null</td><td>null</td><td>null</td><td>null</td><td>null</td></tr><tr><td>1212911749617242113</td><td>&quot;https://twitter.com/__mharriso…</td><td>&quot;@randal_olson I use anaconda w…</td><td>&quot;2020-01-03 01:41:00+00:00&quot;</td><td>1419.0</td><td>14.0</td><td>0.009866</td><td>0.0</td><td>1.0</td><td>5.0</td><td>7.0</td><td>0.0</td><td>0.0</td><td>1.0</td><td>0.0</td><td>0</td><td>0</td><td>0</td><td>0</td><td>0</td><td>0</td><td>0</td><td>null</td><td>null</td><td>null</td><td>null</td><td>null</td><td>null</td><td>null</td><td>null</td><td>null</td><td>null</td><td>null</td><td>null</td><td>null</td><td>null</td><td>null</td><td>null</td><td>null</td><td>null</td></tr><tr><td>1212920556028252160</td><td>&quot;https://twitter.com/__mharriso…</td><td>&quot;@AlSweigart Sometimes the stud…</td><td>&quot;2020-01-03 02:16:00+00:00&quot;</td><td>198.0</td><td>1.0</td><td>0.005051</td><td>0.0</td><td>0.0</td><td>1.0</td><td>0.0</td><td>0.0</td><td>0.0</td><td>0.0</td><td>0.0</td><td>0</td><td>0</td><td>0</td><td>0</td><td>0</td><td>0</td><td>0</td><td>null</td><td>null</td><td>null</td><td>null</td><td>null</td><td>null</td><td>null</td><td>null</td><td>null</td><td>null</td><td>null</td><td>null</td><td>null</td><td>null</td><td>null</td><td>null</td><td>null</td><td>null</td></tr><tr><td>&hellip;</td><td>&hellip;</td><td>&hellip;</td><td>&hellip;</td><td>&hellip;</td><td>&hellip;</td><td>&hellip;</td><td>&hellip;</td><td>&hellip;</td><td>&hellip;</td><td>&hellip;</td><td>&hellip;</td><td>&hellip;</td><td>&hellip;</td><td>&hellip;</td><td>&hellip;</td><td>&hellip;</td><td>&hellip;</td><td>&hellip;</td><td>&hellip;</td><td>&hellip;</td><td>&hellip;</td><td>&hellip;</td><td>&hellip;</td><td>&hellip;</td><td>&hellip;</td><td>&hellip;</td><td>&hellip;</td><td>&hellip;</td><td>&hellip;</td><td>&hellip;</td><td>&hellip;</td><td>&hellip;</td><td>&hellip;</td><td>&hellip;</td><td>&hellip;</td><td>&hellip;</td><td>&hellip;</td><td>&hellip;</td><td>&hellip;</td></tr><tr><td>1475300661851934721</td><td>&quot;https://twitter.com/__mharriso…</td><td>&quot;@allison_horst That&#x27;s awesome!&quot;</td><td>&quot;2021-12-27 03:01:00+00:00&quot;</td><td>986.0</td><td>1.0</td><td>0.001014</td><td>0.0</td><td>0.0</td><td>0.0</td><td>0.0</td><td>0.0</td><td>0.0</td><td>1.0</td><td>0.0</td><td>0</td><td>0</td><td>0</td><td>0</td><td>0</td><td>0</td><td>0</td><td>null</td><td>null</td><td>null</td><td>null</td><td>null</td><td>null</td><td>null</td><td>null</td><td>null</td><td>null</td><td>null</td><td>null</td><td>null</td><td>null</td><td>null</td><td>null</td><td>null</td><td>null</td></tr><tr><td>1475518143690801156</td><td>&quot;https://twitter.com/__mharriso…</td><td>&quot;@willmcgugan You need to find …</td><td>&quot;2021-12-27 17:25:00+00:00&quot;</td><td>1790.0</td><td>7.0</td><td>0.003911</td><td>0.0</td><td>0.0</td><td>3.0</td><td>1.0</td><td>0.0</td><td>0.0</td><td>3.0</td><td>0.0</td><td>0</td><td>0</td><td>0</td><td>0</td><td>0</td><td>0</td><td>0</td><td>null</td><td>null</td><td>null</td><td>null</td><td>null</td><td>null</td><td>null</td><td>null</td><td>null</td><td>null</td><td>null</td><td>null</td><td>null</td><td>null</td><td>null</td><td>null</td><td>null</td><td>null</td></tr><tr><td>1475891441243025408</td><td>&quot;https://twitter.com/__mharriso…</td><td>&quot;@posco Visiting Hawaii for the…</td><td>&quot;2021-12-28 18:08:00+00:00&quot;</td><td>1611.0</td><td>12.0</td><td>0.007449</td><td>0.0</td><td>0.0</td><td>4.0</td><td>4.0</td><td>0.0</td><td>0.0</td><td>4.0</td><td>0.0</td><td>0</td><td>0</td><td>0</td><td>0</td><td>0</td><td>0</td><td>0</td><td>null</td><td>null</td><td>null</td><td>null</td><td>null</td><td>null</td><td>null</td><td>null</td><td>null</td><td>null</td><td>null</td><td>null</td><td>null</td><td>null</td><td>null</td><td>null</td><td>null</td><td>null</td></tr><tr><td>1476453819751878656</td><td>&quot;https://twitter.com/__mharriso…</td><td>&quot;@johndsaunders My son just bui…</td><td>&quot;2021-12-30 07:23:00+00:00&quot;</td><td>1354.0</td><td>8.0</td><td>0.005908</td><td>0.0</td><td>0.0</td><td>2.0</td><td>4.0</td><td>0.0</td><td>0.0</td><td>2.0</td><td>0.0</td><td>0</td><td>0</td><td>0</td><td>0</td><td>0</td><td>0</td><td>0</td><td>null</td><td>null</td><td>null</td><td>null</td><td>null</td><td>null</td><td>null</td><td>null</td><td>null</td><td>null</td><td>null</td><td>null</td><td>null</td><td>null</td><td>null</td><td>null</td><td>null</td><td>null</td></tr><tr><td>1477024722051158018</td><td>&quot;https://twitter.com/__mharriso…</td><td>&quot;@tunguz Xgboost&quot;</td><td>&quot;2021-12-31 21:11:00+00:00&quot;</td><td>5041.0</td><td>63.0</td><td>0.012498</td><td>0.0</td><td>3.0</td><td>23.0</td><td>8.0</td><td>0.0</td><td>0.0</td><td>29.0</td><td>0.0</td><td>0</td><td>0</td><td>0</td><td>0</td><td>0</td><td>0</td><td>0</td><td>null</td><td>null</td><td>null</td><td>null</td><td>null</td><td>null</td><td>null</td><td>null</td><td>null</td><td>null</td><td>null</td><td>null</td><td>null</td><td>null</td><td>null</td><td>null</td><td>null</td><td>null</td></tr></tbody></table></div>"
      ]
     },
     "execution_count": 67,
     "metadata": {},
     "output_type": "execute_result"
    }
   ],
   "execution_count": 67
  },
  {
   "metadata": {},
   "cell_type": "markdown",
   "source": [
    "* In addition to selecting certain columns via `.select()` context, `pl.col()` expression can also select all *except* certain columns via the `.exclude()` context\n",
    "* `pl.col()` can also select via regex"
   ],
   "id": "c10c9f796dd904e4"
  },
  {
   "metadata": {
    "ExecuteTime": {
     "end_time": "2025-06-04T18:48:29.352844Z",
     "start_time": "2025-06-04T18:48:29.343889Z"
    }
   },
   "cell_type": "code",
   "source": [
    "# Select by dtypes: all Float64 cols\n",
    "\n",
    "# (\n",
    "#     df\n",
    "#     .select(\n",
    "#         pl.col(pl.Float64)\n",
    "#     )\n",
    "# )\n",
    "(\n",
    "    lf\n",
    "    .select(\n",
    "        pl.col(pl.Float64)\n",
    "    )\n",
    ").collect()"
   ],
   "id": "91bd3e17c364173c",
   "outputs": [
    {
     "data": {
      "text/plain": [
       "shape: (5_791, 11)\n",
       "┌────────────┬────────────┬────────────┬──────────┬───┬────────┬───────────┬───────────┬───────────┐\n",
       "│ impression ┆ engagement ┆ engagement ┆ retweets ┆ … ┆ url    ┆ hashtag   ┆ detail    ┆ permalink │\n",
       "│ s          ┆ s          ┆ rate       ┆ ---      ┆   ┆ clicks ┆ clicks    ┆ expands   ┆ clicks    │\n",
       "│ ---        ┆ ---        ┆ ---        ┆ f64      ┆   ┆ ---    ┆ ---       ┆ ---       ┆ ---       │\n",
       "│ f64        ┆ f64        ┆ f64        ┆          ┆   ┆ f64    ┆ f64       ┆ f64       ┆ f64       │\n",
       "╞════════════╪════════════╪════════════╪══════════╪═══╪════════╪═══════════╪═══════════╪═══════════╡\n",
       "│ 1465.0     ┆ 7.0        ┆ 0.004778   ┆ 0.0      ┆ … ┆ 0.0    ┆ 0.0       ┆ 1.0       ┆ 0.0       │\n",
       "│ 154.0      ┆ 3.0        ┆ 0.019481   ┆ 0.0      ┆ … ┆ 0.0    ┆ 0.0       ┆ 1.0       ┆ 0.0       │\n",
       "│ 1024.0     ┆ 6.0        ┆ 0.005859   ┆ 0.0      ┆ … ┆ 0.0    ┆ 0.0       ┆ 3.0       ┆ 0.0       │\n",
       "│ 1419.0     ┆ 14.0       ┆ 0.009866   ┆ 0.0      ┆ … ┆ 0.0    ┆ 0.0       ┆ 1.0       ┆ 0.0       │\n",
       "│ 198.0      ┆ 1.0        ┆ 0.005051   ┆ 0.0      ┆ … ┆ 0.0    ┆ 0.0       ┆ 0.0       ┆ 0.0       │\n",
       "│ …          ┆ …          ┆ …          ┆ …        ┆ … ┆ …      ┆ …         ┆ …         ┆ …         │\n",
       "│ 986.0      ┆ 1.0        ┆ 0.001014   ┆ 0.0      ┆ … ┆ 0.0    ┆ 0.0       ┆ 1.0       ┆ 0.0       │\n",
       "│ 1790.0     ┆ 7.0        ┆ 0.003911   ┆ 0.0      ┆ … ┆ 0.0    ┆ 0.0       ┆ 3.0       ┆ 0.0       │\n",
       "│ 1611.0     ┆ 12.0       ┆ 0.007449   ┆ 0.0      ┆ … ┆ 0.0    ┆ 0.0       ┆ 4.0       ┆ 0.0       │\n",
       "│ 1354.0     ┆ 8.0        ┆ 0.005908   ┆ 0.0      ┆ … ┆ 0.0    ┆ 0.0       ┆ 2.0       ┆ 0.0       │\n",
       "│ 5041.0     ┆ 63.0       ┆ 0.012498   ┆ 0.0      ┆ … ┆ 0.0    ┆ 0.0       ┆ 29.0      ┆ 0.0       │\n",
       "└────────────┴────────────┴────────────┴──────────┴───┴────────┴───────────┴───────────┴───────────┘"
      ],
      "text/html": [
       "<div><style>\n",
       ".dataframe > thead > tr,\n",
       ".dataframe > tbody > tr {\n",
       "  text-align: right;\n",
       "  white-space: pre-wrap;\n",
       "}\n",
       "</style>\n",
       "<small>shape: (5_791, 11)</small><table border=\"1\" class=\"dataframe\"><thead><tr><th>impressions</th><th>engagements</th><th>engagement rate</th><th>retweets</th><th>replies</th><th>likes</th><th>user profile clicks</th><th>url clicks</th><th>hashtag clicks</th><th>detail expands</th><th>permalink clicks</th></tr><tr><td>f64</td><td>f64</td><td>f64</td><td>f64</td><td>f64</td><td>f64</td><td>f64</td><td>f64</td><td>f64</td><td>f64</td><td>f64</td></tr></thead><tbody><tr><td>1465.0</td><td>7.0</td><td>0.004778</td><td>0.0</td><td>0.0</td><td>3.0</td><td>3.0</td><td>0.0</td><td>0.0</td><td>1.0</td><td>0.0</td></tr><tr><td>154.0</td><td>3.0</td><td>0.019481</td><td>0.0</td><td>0.0</td><td>1.0</td><td>1.0</td><td>0.0</td><td>0.0</td><td>1.0</td><td>0.0</td></tr><tr><td>1024.0</td><td>6.0</td><td>0.005859</td><td>0.0</td><td>0.0</td><td>1.0</td><td>2.0</td><td>0.0</td><td>0.0</td><td>3.0</td><td>0.0</td></tr><tr><td>1419.0</td><td>14.0</td><td>0.009866</td><td>0.0</td><td>1.0</td><td>5.0</td><td>7.0</td><td>0.0</td><td>0.0</td><td>1.0</td><td>0.0</td></tr><tr><td>198.0</td><td>1.0</td><td>0.005051</td><td>0.0</td><td>0.0</td><td>1.0</td><td>0.0</td><td>0.0</td><td>0.0</td><td>0.0</td><td>0.0</td></tr><tr><td>&hellip;</td><td>&hellip;</td><td>&hellip;</td><td>&hellip;</td><td>&hellip;</td><td>&hellip;</td><td>&hellip;</td><td>&hellip;</td><td>&hellip;</td><td>&hellip;</td><td>&hellip;</td></tr><tr><td>986.0</td><td>1.0</td><td>0.001014</td><td>0.0</td><td>0.0</td><td>0.0</td><td>0.0</td><td>0.0</td><td>0.0</td><td>1.0</td><td>0.0</td></tr><tr><td>1790.0</td><td>7.0</td><td>0.003911</td><td>0.0</td><td>0.0</td><td>3.0</td><td>1.0</td><td>0.0</td><td>0.0</td><td>3.0</td><td>0.0</td></tr><tr><td>1611.0</td><td>12.0</td><td>0.007449</td><td>0.0</td><td>0.0</td><td>4.0</td><td>4.0</td><td>0.0</td><td>0.0</td><td>4.0</td><td>0.0</td></tr><tr><td>1354.0</td><td>8.0</td><td>0.005908</td><td>0.0</td><td>0.0</td><td>2.0</td><td>4.0</td><td>0.0</td><td>0.0</td><td>2.0</td><td>0.0</td></tr><tr><td>5041.0</td><td>63.0</td><td>0.012498</td><td>0.0</td><td>3.0</td><td>23.0</td><td>8.0</td><td>0.0</td><td>0.0</td><td>29.0</td><td>0.0</td></tr></tbody></table></div>"
      ]
     },
     "execution_count": 68,
     "metadata": {},
     "output_type": "execute_result"
    }
   ],
   "execution_count": 68
  },
  {
   "metadata": {
    "ExecuteTime": {
     "end_time": "2025-06-04T18:48:29.553867Z",
     "start_time": "2025-06-04T18:48:29.541256Z"
    }
   },
   "cell_type": "code",
   "source": [
    "# Can also use pl.selectors to select by dtype\n",
    "\n",
    "# (\n",
    "#     lf\n",
    "#     .select(\n",
    "#         cs.by_dtype([pl.Float32, pl.Float64]),\n",
    "#     )\n",
    "# ).collect()\n",
    "(\n",
    "    lf\n",
    "    .select(\n",
    "        # cs.float(),  # Select all float types\n",
    "        # cs.integer(),  # Select all int types\n",
    "        cs.numeric(),  # Select all floats, ints, & uints\n",
    "    )\n",
    ").collect()"
   ],
   "id": "5be697c47e734e06",
   "outputs": [
    {
     "data": {
      "text/plain": [
       "shape: (5_791, 19)\n",
       "┌──────────────┬─────────────┬─────────────┬─────────────┬───┬───────┬───────┬───────┬─────────────┐\n",
       "│ Tweet id     ┆ impressions ┆ engagements ┆ engagement  ┆ … ┆ email ┆ dial  ┆ media ┆ media       │\n",
       "│ ---          ┆ ---         ┆ ---         ┆ rate        ┆   ┆ tweet ┆ phone ┆ views ┆ engagements │\n",
       "│ i64          ┆ f64         ┆ f64         ┆ ---         ┆   ┆ ---   ┆ ---   ┆ ---   ┆ ---         │\n",
       "│              ┆             ┆             ┆ f64         ┆   ┆ i64   ┆ i64   ┆ i64   ┆ i64         │\n",
       "╞══════════════╪═════════════╪═════════════╪═════════════╪═══╪═══════╪═══════╪═══════╪═════════════╡\n",
       "│ 121258051790 ┆ 1465.0      ┆ 7.0         ┆ 0.004778    ┆ … ┆ 0     ┆ 0     ┆ 0     ┆ 0           │\n",
       "│ 5780737      ┆             ┆             ┆             ┆   ┆       ┆       ┆       ┆             │\n",
       "│ 121258249482 ┆ 154.0       ┆ 3.0         ┆ 0.019481    ┆ … ┆ 0     ┆ 0     ┆ 0     ┆ 0           │\n",
       "│ 8036097      ┆             ┆             ┆             ┆   ┆       ┆       ┆       ┆             │\n",
       "│ 121261373569 ┆ 1024.0      ┆ 6.0         ┆ 0.005859    ┆ … ┆ 0     ┆ 0     ┆ 0     ┆ 0           │\n",
       "│ 8690049      ┆             ┆             ┆             ┆   ┆       ┆       ┆       ┆             │\n",
       "│ 121291174961 ┆ 1419.0      ┆ 14.0        ┆ 0.009866    ┆ … ┆ 0     ┆ 0     ┆ 0     ┆ 0           │\n",
       "│ 7242113      ┆             ┆             ┆             ┆   ┆       ┆       ┆       ┆             │\n",
       "│ 121292055602 ┆ 198.0       ┆ 1.0         ┆ 0.005051    ┆ … ┆ 0     ┆ 0     ┆ 0     ┆ 0           │\n",
       "│ 8252160      ┆             ┆             ┆             ┆   ┆       ┆       ┆       ┆             │\n",
       "│ …            ┆ …           ┆ …           ┆ …           ┆ … ┆ …     ┆ …     ┆ …     ┆ …           │\n",
       "│ 147530066185 ┆ 986.0       ┆ 1.0         ┆ 0.001014    ┆ … ┆ 0     ┆ 0     ┆ 0     ┆ 0           │\n",
       "│ 1934721      ┆             ┆             ┆             ┆   ┆       ┆       ┆       ┆             │\n",
       "│ 147551814369 ┆ 1790.0      ┆ 7.0         ┆ 0.003911    ┆ … ┆ 0     ┆ 0     ┆ 0     ┆ 0           │\n",
       "│ 0801156      ┆             ┆             ┆             ┆   ┆       ┆       ┆       ┆             │\n",
       "│ 147589144124 ┆ 1611.0      ┆ 12.0        ┆ 0.007449    ┆ … ┆ 0     ┆ 0     ┆ 0     ┆ 0           │\n",
       "│ 3025408      ┆             ┆             ┆             ┆   ┆       ┆       ┆       ┆             │\n",
       "│ 147645381975 ┆ 1354.0      ┆ 8.0         ┆ 0.005908    ┆ … ┆ 0     ┆ 0     ┆ 0     ┆ 0           │\n",
       "│ 1878656      ┆             ┆             ┆             ┆   ┆       ┆       ┆       ┆             │\n",
       "│ 147702472205 ┆ 5041.0      ┆ 63.0        ┆ 0.012498    ┆ … ┆ 0     ┆ 0     ┆ 0     ┆ 0           │\n",
       "│ 1158018      ┆             ┆             ┆             ┆   ┆       ┆       ┆       ┆             │\n",
       "└──────────────┴─────────────┴─────────────┴─────────────┴───┴───────┴───────┴───────┴─────────────┘"
      ],
      "text/html": [
       "<div><style>\n",
       ".dataframe > thead > tr,\n",
       ".dataframe > tbody > tr {\n",
       "  text-align: right;\n",
       "  white-space: pre-wrap;\n",
       "}\n",
       "</style>\n",
       "<small>shape: (5_791, 19)</small><table border=\"1\" class=\"dataframe\"><thead><tr><th>Tweet id</th><th>impressions</th><th>engagements</th><th>engagement rate</th><th>retweets</th><th>replies</th><th>likes</th><th>user profile clicks</th><th>url clicks</th><th>hashtag clicks</th><th>detail expands</th><th>permalink clicks</th><th>app opens</th><th>app installs</th><th>follows</th><th>email tweet</th><th>dial phone</th><th>media views</th><th>media engagements</th></tr><tr><td>i64</td><td>f64</td><td>f64</td><td>f64</td><td>f64</td><td>f64</td><td>f64</td><td>f64</td><td>f64</td><td>f64</td><td>f64</td><td>f64</td><td>i64</td><td>i64</td><td>i64</td><td>i64</td><td>i64</td><td>i64</td><td>i64</td></tr></thead><tbody><tr><td>1212580517905780737</td><td>1465.0</td><td>7.0</td><td>0.004778</td><td>0.0</td><td>0.0</td><td>3.0</td><td>3.0</td><td>0.0</td><td>0.0</td><td>1.0</td><td>0.0</td><td>0</td><td>0</td><td>0</td><td>0</td><td>0</td><td>0</td><td>0</td></tr><tr><td>1212582494828036097</td><td>154.0</td><td>3.0</td><td>0.019481</td><td>0.0</td><td>0.0</td><td>1.0</td><td>1.0</td><td>0.0</td><td>0.0</td><td>1.0</td><td>0.0</td><td>0</td><td>0</td><td>0</td><td>0</td><td>0</td><td>0</td><td>0</td></tr><tr><td>1212613735698690049</td><td>1024.0</td><td>6.0</td><td>0.005859</td><td>0.0</td><td>0.0</td><td>1.0</td><td>2.0</td><td>0.0</td><td>0.0</td><td>3.0</td><td>0.0</td><td>0</td><td>0</td><td>0</td><td>0</td><td>0</td><td>0</td><td>0</td></tr><tr><td>1212911749617242113</td><td>1419.0</td><td>14.0</td><td>0.009866</td><td>0.0</td><td>1.0</td><td>5.0</td><td>7.0</td><td>0.0</td><td>0.0</td><td>1.0</td><td>0.0</td><td>0</td><td>0</td><td>0</td><td>0</td><td>0</td><td>0</td><td>0</td></tr><tr><td>1212920556028252160</td><td>198.0</td><td>1.0</td><td>0.005051</td><td>0.0</td><td>0.0</td><td>1.0</td><td>0.0</td><td>0.0</td><td>0.0</td><td>0.0</td><td>0.0</td><td>0</td><td>0</td><td>0</td><td>0</td><td>0</td><td>0</td><td>0</td></tr><tr><td>&hellip;</td><td>&hellip;</td><td>&hellip;</td><td>&hellip;</td><td>&hellip;</td><td>&hellip;</td><td>&hellip;</td><td>&hellip;</td><td>&hellip;</td><td>&hellip;</td><td>&hellip;</td><td>&hellip;</td><td>&hellip;</td><td>&hellip;</td><td>&hellip;</td><td>&hellip;</td><td>&hellip;</td><td>&hellip;</td><td>&hellip;</td></tr><tr><td>1475300661851934721</td><td>986.0</td><td>1.0</td><td>0.001014</td><td>0.0</td><td>0.0</td><td>0.0</td><td>0.0</td><td>0.0</td><td>0.0</td><td>1.0</td><td>0.0</td><td>0</td><td>0</td><td>0</td><td>0</td><td>0</td><td>0</td><td>0</td></tr><tr><td>1475518143690801156</td><td>1790.0</td><td>7.0</td><td>0.003911</td><td>0.0</td><td>0.0</td><td>3.0</td><td>1.0</td><td>0.0</td><td>0.0</td><td>3.0</td><td>0.0</td><td>0</td><td>0</td><td>0</td><td>0</td><td>0</td><td>0</td><td>0</td></tr><tr><td>1475891441243025408</td><td>1611.0</td><td>12.0</td><td>0.007449</td><td>0.0</td><td>0.0</td><td>4.0</td><td>4.0</td><td>0.0</td><td>0.0</td><td>4.0</td><td>0.0</td><td>0</td><td>0</td><td>0</td><td>0</td><td>0</td><td>0</td><td>0</td></tr><tr><td>1476453819751878656</td><td>1354.0</td><td>8.0</td><td>0.005908</td><td>0.0</td><td>0.0</td><td>2.0</td><td>4.0</td><td>0.0</td><td>0.0</td><td>2.0</td><td>0.0</td><td>0</td><td>0</td><td>0</td><td>0</td><td>0</td><td>0</td><td>0</td></tr><tr><td>1477024722051158018</td><td>5041.0</td><td>63.0</td><td>0.012498</td><td>0.0</td><td>3.0</td><td>23.0</td><td>8.0</td><td>0.0</td><td>0.0</td><td>29.0</td><td>0.0</td><td>0</td><td>0</td><td>0</td><td>0</td><td>0</td><td>0</td><td>0</td></tr></tbody></table></div>"
      ]
     },
     "execution_count": 69,
     "metadata": {},
     "output_type": "execute_result"
    }
   ],
   "execution_count": 69
  },
  {
   "metadata": {},
   "cell_type": "markdown",
   "source": [
    "A `.select()` expression cannot return duplicate columns (unlike Pandas), so must use one of the following to rename any duplicates:\n",
    "* `.name.prefix()`\n",
    "* `.name.suffix()`\n",
    "* `.name.alias()`"
   ],
   "id": "a6902ff8aa85d29c"
  },
  {
   "metadata": {
    "ExecuteTime": {
     "end_time": "2025-06-04T18:49:16.071825Z",
     "start_time": "2025-06-04T18:49:15.539616Z"
    }
   },
   "cell_type": "code",
   "source": [
    "# Select duplicate columns\n",
    "\n",
    "# (\n",
    "#     df.select(\n",
    "#         ['impressions',\n",
    "#          pl.col('impressions').name.suffix('_2')]\n",
    "#         pl.col('impressions'),\n",
    "#         pl.col('impressions').name.suffix('_2')\n",
    "#     )\n",
    "# )\n",
    "\n",
    "(\n",
    "    lf.select(\n",
    "        pl.col('impressions'),\n",
    "        pl.col('impressions').name.suffix('_2'),\n",
    "    )\n",
    ").collect(engine='gpu')"
   ],
   "id": "57964c0eb2b7a8da",
   "outputs": [
    {
     "ename": "ModuleNotFoundError",
     "evalue": "GPU engine requested, but required package 'cudf_polars' not found.\nPlease install using the command `pip install cudf-polars-cu12` (or `pip install --extra-index-url=https://pypi.nvidia.com cudf-polars-cu11` if your system has a CUDA 11 driver).",
     "output_type": "error",
     "traceback": [
      "\u001B[31m---------------------------------------------------------------------------\u001B[39m",
      "\u001B[31mModuleNotFoundError\u001B[39m                       Traceback (most recent call last)",
      "\u001B[36mCell\u001B[39m\u001B[36m \u001B[39m\u001B[32mIn[71]\u001B[39m\u001B[32m, line 17\u001B[39m\n\u001B[32m      1\u001B[39m \u001B[38;5;66;03m# Select duplicate columns\u001B[39;00m\n\u001B[32m      2\u001B[39m \n\u001B[32m      3\u001B[39m \u001B[38;5;66;03m# (\u001B[39;00m\n\u001B[32m   (...)\u001B[39m\u001B[32m      9\u001B[39m \u001B[38;5;66;03m#     )\u001B[39;00m\n\u001B[32m     10\u001B[39m \u001B[38;5;66;03m# )\u001B[39;00m\n\u001B[32m     12\u001B[39m \u001B[43m(\u001B[49m\n\u001B[32m     13\u001B[39m \u001B[43m    \u001B[49m\u001B[43mlf\u001B[49m\u001B[43m.\u001B[49m\u001B[43mselect\u001B[49m\u001B[43m(\u001B[49m\n\u001B[32m     14\u001B[39m \u001B[43m        \u001B[49m\u001B[43mpl\u001B[49m\u001B[43m.\u001B[49m\u001B[43mcol\u001B[49m\u001B[43m(\u001B[49m\u001B[33;43m'\u001B[39;49m\u001B[33;43mimpressions\u001B[39;49m\u001B[33;43m'\u001B[39;49m\u001B[43m)\u001B[49m\u001B[43m,\u001B[49m\n\u001B[32m     15\u001B[39m \u001B[43m        \u001B[49m\u001B[43mpl\u001B[49m\u001B[43m.\u001B[49m\u001B[43mcol\u001B[49m\u001B[43m(\u001B[49m\u001B[33;43m'\u001B[39;49m\u001B[33;43mimpressions\u001B[39;49m\u001B[33;43m'\u001B[39;49m\u001B[43m)\u001B[49m\u001B[43m.\u001B[49m\u001B[43mname\u001B[49m\u001B[43m.\u001B[49m\u001B[43msuffix\u001B[49m\u001B[43m(\u001B[49m\u001B[33;43m'\u001B[39;49m\u001B[33;43m_2\u001B[39;49m\u001B[33;43m'\u001B[39;49m\u001B[43m)\u001B[49m\u001B[43m,\u001B[49m\n\u001B[32m     16\u001B[39m \u001B[43m    \u001B[49m\u001B[43m)\u001B[49m\n\u001B[32m---> \u001B[39m\u001B[32m17\u001B[39m \u001B[43m)\u001B[49m\u001B[43m.\u001B[49m\u001B[43mcollect\u001B[49m\u001B[43m(\u001B[49m\u001B[43mengine\u001B[49m\u001B[43m=\u001B[49m\u001B[33;43m'\u001B[39;49m\u001B[33;43mgpu\u001B[39;49m\u001B[33;43m'\u001B[39;49m\u001B[43m)\u001B[49m\n",
      "\u001B[36mFile \u001B[39m\u001B[32m~\\PycharmProjects\\learning\\.venv\\Lib\\site-packages\\polars\\_utils\\deprecation.py:97\u001B[39m, in \u001B[36mdeprecate_streaming_parameter.<locals>.decorate.<locals>.wrapper\u001B[39m\u001B[34m(*args, **kwargs)\u001B[39m\n\u001B[32m     93\u001B[39m         kwargs[\u001B[33m\"\u001B[39m\u001B[33mengine\u001B[39m\u001B[33m\"\u001B[39m] = \u001B[33m\"\u001B[39m\u001B[33min-memory\u001B[39m\u001B[33m\"\u001B[39m\n\u001B[32m     95\u001B[39m     \u001B[38;5;28;01mdel\u001B[39;00m kwargs[\u001B[33m\"\u001B[39m\u001B[33mstreaming\u001B[39m\u001B[33m\"\u001B[39m]\n\u001B[32m---> \u001B[39m\u001B[32m97\u001B[39m \u001B[38;5;28;01mreturn\u001B[39;00m \u001B[43mfunction\u001B[49m\u001B[43m(\u001B[49m\u001B[43m*\u001B[49m\u001B[43margs\u001B[49m\u001B[43m,\u001B[49m\u001B[43m \u001B[49m\u001B[43m*\u001B[49m\u001B[43m*\u001B[49m\u001B[43mkwargs\u001B[49m\u001B[43m)\u001B[49m\n",
      "\u001B[36mFile \u001B[39m\u001B[32m~\\PycharmProjects\\learning\\.venv\\Lib\\site-packages\\polars\\lazyframe\\opt_flags.py:331\u001B[39m, in \u001B[36mforward_old_opt_flags.<locals>.decorate.<locals>.wrapper\u001B[39m\u001B[34m(*args, **kwargs)\u001B[39m\n\u001B[32m    328\u001B[39m         optflags = cb(optflags, kwargs.pop(key))  \u001B[38;5;66;03m# type: ignore[no-untyped-call,unused-ignore]\u001B[39;00m\n\u001B[32m    330\u001B[39m kwargs[\u001B[33m\"\u001B[39m\u001B[33moptimizations\u001B[39m\u001B[33m\"\u001B[39m] = optflags\n\u001B[32m--> \u001B[39m\u001B[32m331\u001B[39m \u001B[38;5;28;01mreturn\u001B[39;00m \u001B[43mfunction\u001B[49m\u001B[43m(\u001B[49m\u001B[43m*\u001B[49m\u001B[43margs\u001B[49m\u001B[43m,\u001B[49m\u001B[43m \u001B[49m\u001B[43m*\u001B[49m\u001B[43m*\u001B[49m\u001B[43mkwargs\u001B[49m\u001B[43m)\u001B[49m\n",
      "\u001B[36mFile \u001B[39m\u001B[32m~\\PycharmProjects\\learning\\.venv\\Lib\\site-packages\\polars\\lazyframe\\frame.py:2282\u001B[39m, in \u001B[36mcollect\u001B[39m\u001B[34m(self, type_coercion, predicate_pushdown, projection_pushdown, simplify_expression, slice_pushdown, comm_subplan_elim, comm_subexpr_elim, cluster_with_columns, collapse_joins, no_optimization, engine, background, optimizations, **_kwargs)\u001B[39m\n\u001B[32m   2259\u001B[39m         statistics = {\n\u001B[32m   2260\u001B[39m             \u001B[33m\"\u001B[39m\u001B[33mmin\u001B[39m\u001B[33m\"\u001B[39m: \u001B[38;5;28;01mTrue\u001B[39;00m,\n\u001B[32m   2261\u001B[39m             \u001B[33m\"\u001B[39m\u001B[33mmax\u001B[39m\u001B[33m\"\u001B[39m: \u001B[38;5;28;01mTrue\u001B[39;00m,\n\u001B[32m   2262\u001B[39m             \u001B[33m\"\u001B[39m\u001B[33mdistinct_count\u001B[39m\u001B[33m\"\u001B[39m: \u001B[38;5;28;01mTrue\u001B[39;00m,\n\u001B[32m   2263\u001B[39m             \u001B[33m\"\u001B[39m\u001B[33mnull_count\u001B[39m\u001B[33m\"\u001B[39m: \u001B[38;5;28;01mTrue\u001B[39;00m,\n\u001B[32m   2264\u001B[39m         }\n\u001B[32m   2266\u001B[39m     \u001B[38;5;28;01mreturn\u001B[39;00m lf.sink_parquet(\n\u001B[32m   2267\u001B[39m         path=normalize_filepath(path),\n\u001B[32m   2268\u001B[39m         compression=compression,\n\u001B[32m   (...)\u001B[39m\u001B[32m   2273\u001B[39m         maintain_order=maintain_order,\n\u001B[32m   2274\u001B[39m     )\n\u001B[32m   2276\u001B[39m \u001B[38;5;129m@unstable\u001B[39m()\n\u001B[32m   2277\u001B[39m \u001B[38;5;28;01mdef\u001B[39;00m\u001B[38;5;250m \u001B[39m\u001B[34msink_ipc\u001B[39m(\n\u001B[32m   2278\u001B[39m     \u001B[38;5;28mself\u001B[39m,\n\u001B[32m   2279\u001B[39m     path: \u001B[38;5;28mstr\u001B[39m | Path,\n\u001B[32m   2280\u001B[39m     *,\n\u001B[32m   2281\u001B[39m     compression: \u001B[38;5;28mstr\u001B[39m | \u001B[38;5;28;01mNone\u001B[39;00m = \u001B[33m\"\u001B[39m\u001B[33mzstd\u001B[39m\u001B[33m\"\u001B[39m,\n\u001B[32m-> \u001B[39m\u001B[32m2282\u001B[39m     maintain_order: \u001B[38;5;28mbool\u001B[39m = \u001B[38;5;28;01mTrue\u001B[39;00m,\n\u001B[32m   2283\u001B[39m     type_coercion: \u001B[38;5;28mbool\u001B[39m = \u001B[38;5;28;01mTrue\u001B[39;00m,\n\u001B[32m   2284\u001B[39m     predicate_pushdown: \u001B[38;5;28mbool\u001B[39m = \u001B[38;5;28;01mTrue\u001B[39;00m,\n\u001B[32m   2285\u001B[39m     projection_pushdown: \u001B[38;5;28mbool\u001B[39m = \u001B[38;5;28;01mTrue\u001B[39;00m,\n\u001B[32m   2286\u001B[39m     simplify_expression: \u001B[38;5;28mbool\u001B[39m = \u001B[38;5;28;01mTrue\u001B[39;00m,\n\u001B[32m   2287\u001B[39m     slice_pushdown: \u001B[38;5;28mbool\u001B[39m = \u001B[38;5;28;01mTrue\u001B[39;00m,\n\u001B[32m   2288\u001B[39m     no_optimization: \u001B[38;5;28mbool\u001B[39m = \u001B[38;5;28;01mFalse\u001B[39;00m,\n\u001B[32m   2289\u001B[39m ) -> \u001B[38;5;28;01mNone\u001B[39;00m:\n\u001B[32m   2290\u001B[39m \u001B[38;5;250m    \u001B[39m\u001B[33;03m\"\"\"\u001B[39;00m\n\u001B[32m   2291\u001B[39m \u001B[33;03m    Evaluate the query in streaming mode and write to an IPC file.\u001B[39;00m\n\u001B[32m   2292\u001B[39m \n\u001B[32m   (...)\u001B[39m\u001B[32m   2329\u001B[39m \u001B[33;03m    >>> lf.sink_ipc(\"out.arrow\")  # doctest: +SKIP\u001B[39;00m\n\u001B[32m   2330\u001B[39m \u001B[33;03m    \"\"\"\u001B[39;00m\n\u001B[32m   2331\u001B[39m     lf = \u001B[38;5;28mself\u001B[39m._set_sink_optimizations(\n\u001B[32m   2332\u001B[39m         type_coercion=type_coercion,\n\u001B[32m   2333\u001B[39m         predicate_pushdown=predicate_pushdown,\n\u001B[32m   (...)\u001B[39m\u001B[32m   2337\u001B[39m         no_optimization=no_optimization,\n\u001B[32m   2338\u001B[39m     )\n",
      "\u001B[36mFile \u001B[39m\u001B[32m~\\PycharmProjects\\learning\\.venv\\Lib\\site-packages\\polars\\lazyframe\\frame.py:220\u001B[39m, in \u001B[36m_gpu_engine_callback\u001B[39m\u001B[34m(engine, streaming, background, new_streaming, _eager)\u001B[39m\n\u001B[32m    135\u001B[39m \u001B[38;5;28;01mclass\u001B[39;00m\u001B[38;5;250m \u001B[39m\u001B[34;01mLazyFrame\u001B[39;00m:\n\u001B[32m    136\u001B[39m \u001B[38;5;250m    \u001B[39m\u001B[33;03m\"\"\"\u001B[39;00m\n\u001B[32m    137\u001B[39m \u001B[33;03m    Representation of a Lazy computation graph/query against a DataFrame.\u001B[39;00m\n\u001B[32m    138\u001B[39m \n\u001B[32m    139\u001B[39m \u001B[33;03m    This allows for whole-query optimisation in addition to parallelism, and\u001B[39;00m\n\u001B[32m    140\u001B[39m \u001B[33;03m    is the preferred (and highest-performance) mode of operation for polars.\u001B[39;00m\n\u001B[32m    141\u001B[39m \n\u001B[32m    142\u001B[39m \u001B[33;03m    Parameters\u001B[39;00m\n\u001B[32m    143\u001B[39m \u001B[33;03m    ----------\u001B[39;00m\n\u001B[32m    144\u001B[39m \u001B[33;03m    data : dict, Sequence, ndarray, Series, or pandas.DataFrame\u001B[39;00m\n\u001B[32m    145\u001B[39m \u001B[33;03m        Two-dimensional data in various forms; dict input must contain Sequences,\u001B[39;00m\n\u001B[32m    146\u001B[39m \u001B[33;03m        Generators, or a `range`. Sequence may contain Series or other Sequences.\u001B[39;00m\n\u001B[32m    147\u001B[39m \u001B[33;03m    schema : Sequence of str, (str,DataType) pairs, or a {str:DataType,} dict\u001B[39;00m\n\u001B[32m    148\u001B[39m \u001B[33;03m        The LazyFrame schema may be declared in several ways:\u001B[39;00m\n\u001B[32m    149\u001B[39m \n\u001B[32m    150\u001B[39m \u001B[33;03m        * As a dict of {name:type} pairs; if type is None, it will be auto-inferred.\u001B[39;00m\n\u001B[32m    151\u001B[39m \u001B[33;03m        * As a list of column names; in this case types are automatically inferred.\u001B[39;00m\n\u001B[32m    152\u001B[39m \u001B[33;03m        * As a list of (name,type) pairs; this is equivalent to the dictionary form.\u001B[39;00m\n\u001B[32m    153\u001B[39m \n\u001B[32m    154\u001B[39m \u001B[33;03m        If you supply a list of column names that does not match the names in the\u001B[39;00m\n\u001B[32m    155\u001B[39m \u001B[33;03m        underlying data, the names given here will overwrite them. The number\u001B[39;00m\n\u001B[32m    156\u001B[39m \u001B[33;03m        of names given in the schema should match the underlying data dimensions.\u001B[39;00m\n\u001B[32m    157\u001B[39m \u001B[33;03m    schema_overrides : dict, default None\u001B[39;00m\n\u001B[32m    158\u001B[39m \u001B[33;03m        Support type specification or override of one or more columns; note that\u001B[39;00m\n\u001B[32m    159\u001B[39m \u001B[33;03m        any dtypes inferred from the schema param will be overridden.\u001B[39;00m\n\u001B[32m    160\u001B[39m \n\u001B[32m    161\u001B[39m \u001B[33;03m        The number of entries in the schema should match the underlying data\u001B[39;00m\n\u001B[32m    162\u001B[39m \u001B[33;03m        dimensions, unless a sequence of dictionaries is being passed, in which case\u001B[39;00m\n\u001B[32m    163\u001B[39m \u001B[33;03m        a *partial* schema can be declared to prevent specific fields from being loaded.\u001B[39;00m\n\u001B[32m    164\u001B[39m \u001B[33;03m    strict : bool, default True\u001B[39;00m\n\u001B[32m    165\u001B[39m \u001B[33;03m        Throw an error if any `data` value does not exactly match the given or inferred\u001B[39;00m\n\u001B[32m    166\u001B[39m \u001B[33;03m        data type for that column. If set to `False`, values that do not match the data\u001B[39;00m\n\u001B[32m    167\u001B[39m \u001B[33;03m        type are cast to that data type or, if casting is not possible, set to null\u001B[39;00m\n\u001B[32m    168\u001B[39m \u001B[33;03m        instead.\u001B[39;00m\n\u001B[32m    169\u001B[39m \u001B[33;03m    orient : {'col', 'row'}, default None\u001B[39;00m\n\u001B[32m    170\u001B[39m \u001B[33;03m        Whether to interpret two-dimensional data as columns or as rows. If None,\u001B[39;00m\n\u001B[32m    171\u001B[39m \u001B[33;03m        the orientation is inferred by matching the columns and data dimensions. If\u001B[39;00m\n\u001B[32m    172\u001B[39m \u001B[33;03m        this does not yield conclusive results, column orientation is used.\u001B[39;00m\n\u001B[32m    173\u001B[39m \u001B[33;03m    infer_schema_length : int or None\u001B[39;00m\n\u001B[32m    174\u001B[39m \u001B[33;03m        The maximum number of rows to scan for schema inference. If set to `None`, the\u001B[39;00m\n\u001B[32m    175\u001B[39m \u001B[33;03m        full data may be scanned *(this can be slow)*. This parameter only applies if\u001B[39;00m\n\u001B[32m    176\u001B[39m \u001B[33;03m        the input data is a sequence or generator of rows; other input is read as-is.\u001B[39;00m\n\u001B[32m    177\u001B[39m \u001B[33;03m    nan_to_null : bool, default False\u001B[39;00m\n\u001B[32m    178\u001B[39m \u001B[33;03m        If the data comes from one or more numpy arrays, can optionally convert input\u001B[39;00m\n\u001B[32m    179\u001B[39m \u001B[33;03m        data np.nan values to null instead. This is a no-op for all other input data.\u001B[39;00m\n\u001B[32m    180\u001B[39m \n\u001B[32m    181\u001B[39m \u001B[33;03m    Notes\u001B[39;00m\n\u001B[32m    182\u001B[39m \u001B[33;03m    -----\u001B[39;00m\n\u001B[32m    183\u001B[39m \u001B[33;03m    Initialising `LazyFrame(...)` directly is equivalent to `DataFrame(...).lazy()`.\u001B[39;00m\n\u001B[32m    184\u001B[39m \n\u001B[32m    185\u001B[39m \u001B[33;03m    Examples\u001B[39;00m\n\u001B[32m    186\u001B[39m \u001B[33;03m    --------\u001B[39;00m\n\u001B[32m    187\u001B[39m \u001B[33;03m    Constructing a LazyFrame directly from a dictionary:\u001B[39;00m\n\u001B[32m    188\u001B[39m \n\u001B[32m    189\u001B[39m \u001B[33;03m    >>> data = {\"a\": [1, 2], \"b\": [3, 4]}\u001B[39;00m\n\u001B[32m    190\u001B[39m \u001B[33;03m    >>> lf = pl.LazyFrame(data)\u001B[39;00m\n\u001B[32m    191\u001B[39m \u001B[33;03m    >>> lf.collect()\u001B[39;00m\n\u001B[32m    192\u001B[39m \u001B[33;03m    shape: (2, 2)\u001B[39;00m\n\u001B[32m    193\u001B[39m \u001B[33;03m    ┌─────┬─────┐\u001B[39;00m\n\u001B[32m    194\u001B[39m \u001B[33;03m    │ a   ┆ b   │\u001B[39;00m\n\u001B[32m    195\u001B[39m \u001B[33;03m    │ --- ┆ --- │\u001B[39;00m\n\u001B[32m    196\u001B[39m \u001B[33;03m    │ i64 ┆ i64 │\u001B[39;00m\n\u001B[32m    197\u001B[39m \u001B[33;03m    ╞═════╪═════╡\u001B[39;00m\n\u001B[32m    198\u001B[39m \u001B[33;03m    │ 1   ┆ 3   │\u001B[39;00m\n\u001B[32m    199\u001B[39m \u001B[33;03m    │ 2   ┆ 4   │\u001B[39;00m\n\u001B[32m    200\u001B[39m \u001B[33;03m    └─────┴─────┘\u001B[39;00m\n\u001B[32m    201\u001B[39m \n\u001B[32m    202\u001B[39m \u001B[33;03m    Notice that the dtypes are automatically inferred as Polars Int64:\u001B[39;00m\n\u001B[32m    203\u001B[39m \n\u001B[32m    204\u001B[39m \u001B[33;03m    >>> lf.collect_schema().dtypes()\u001B[39;00m\n\u001B[32m    205\u001B[39m \u001B[33;03m    [Int64, Int64]\u001B[39;00m\n\u001B[32m    206\u001B[39m \n\u001B[32m    207\u001B[39m \u001B[33;03m    To specify a more detailed/specific frame schema you can supply the `schema`\u001B[39;00m\n\u001B[32m    208\u001B[39m \u001B[33;03m    parameter with a dictionary of (name,dtype) pairs...\u001B[39;00m\n\u001B[32m    209\u001B[39m \n\u001B[32m    210\u001B[39m \u001B[33;03m    >>> data = {\"col1\": [0, 2], \"col2\": [3, 7]}\u001B[39;00m\n\u001B[32m    211\u001B[39m \u001B[33;03m    >>> lf2 = pl.LazyFrame(data, schema={\"col1\": pl.Float32, \"col2\": pl.Int64})\u001B[39;00m\n\u001B[32m    212\u001B[39m \u001B[33;03m    >>> lf2.collect()\u001B[39;00m\n\u001B[32m    213\u001B[39m \u001B[33;03m    shape: (2, 2)\u001B[39;00m\n\u001B[32m    214\u001B[39m \u001B[33;03m    ┌──────┬──────┐\u001B[39;00m\n\u001B[32m    215\u001B[39m \u001B[33;03m    │ col1 ┆ col2 │\u001B[39;00m\n\u001B[32m    216\u001B[39m \u001B[33;03m    │ ---  ┆ ---  │\u001B[39;00m\n\u001B[32m    217\u001B[39m \u001B[33;03m    │ f32  ┆ i64  │\u001B[39;00m\n\u001B[32m    218\u001B[39m \u001B[33;03m    ╞══════╪══════╡\u001B[39;00m\n\u001B[32m    219\u001B[39m \u001B[33;03m    │ 0.0  ┆ 3    │\u001B[39;00m\n\u001B[32m--> \u001B[39m\u001B[32m220\u001B[39m \u001B[33;03m    │ 2.0  ┆ 7    │\u001B[39;00m\n\u001B[32m    221\u001B[39m \u001B[33;03m    └──────┴──────┘\u001B[39;00m\n\u001B[32m    222\u001B[39m \n\u001B[32m    223\u001B[39m \u001B[33;03m    ...a sequence of (name,dtype) pairs...\u001B[39;00m\n\u001B[32m    224\u001B[39m \n\u001B[32m    225\u001B[39m \u001B[33;03m    >>> data = {\"col1\": [1, 2], \"col2\": [3, 4]}\u001B[39;00m\n\u001B[32m    226\u001B[39m \u001B[33;03m    >>> lf3 = pl.LazyFrame(data, schema=[(\"col1\", pl.Float32), (\"col2\", pl.Int64)])\u001B[39;00m\n\u001B[32m    227\u001B[39m \u001B[33;03m    >>> lf3.collect()\u001B[39;00m\n\u001B[32m    228\u001B[39m \u001B[33;03m    shape: (2, 2)\u001B[39;00m\n\u001B[32m    229\u001B[39m \u001B[33;03m    ┌──────┬──────┐\u001B[39;00m\n\u001B[32m    230\u001B[39m \u001B[33;03m    │ col1 ┆ col2 │\u001B[39;00m\n\u001B[32m    231\u001B[39m \u001B[33;03m    │ ---  ┆ ---  │\u001B[39;00m\n\u001B[32m    232\u001B[39m \u001B[33;03m    │ f32  ┆ i64  │\u001B[39;00m\n\u001B[32m    233\u001B[39m \u001B[33;03m    ╞══════╪══════╡\u001B[39;00m\n\u001B[32m    234\u001B[39m \u001B[33;03m    │ 1.0  ┆ 3    │\u001B[39;00m\n\u001B[32m    235\u001B[39m \u001B[33;03m    │ 2.0  ┆ 4    │\u001B[39;00m\n\u001B[32m    236\u001B[39m \u001B[33;03m    └──────┴──────┘\u001B[39;00m\n\u001B[32m    237\u001B[39m \n\u001B[32m    238\u001B[39m \u001B[33;03m    ...or a list of typed Series.\u001B[39;00m\n\u001B[32m    239\u001B[39m \n\u001B[32m    240\u001B[39m \u001B[33;03m    >>> data = [\u001B[39;00m\n\u001B[32m    241\u001B[39m \u001B[33;03m    ...     pl.Series(\"col1\", [1, 2], dtype=pl.Float32),\u001B[39;00m\n\u001B[32m    242\u001B[39m \u001B[33;03m    ...     pl.Series(\"col2\", [3, 4], dtype=pl.Int64),\u001B[39;00m\n\u001B[32m    243\u001B[39m \u001B[33;03m    ... ]\u001B[39;00m\n\u001B[32m    244\u001B[39m \u001B[33;03m    >>> lf4 = pl.LazyFrame(data)\u001B[39;00m\n\u001B[32m    245\u001B[39m \u001B[33;03m    >>> lf4.collect()\u001B[39;00m\n\u001B[32m    246\u001B[39m \u001B[33;03m    shape: (2, 2)\u001B[39;00m\n\u001B[32m    247\u001B[39m \u001B[33;03m    ┌──────┬──────┐\u001B[39;00m\n\u001B[32m    248\u001B[39m \u001B[33;03m    │ col1 ┆ col2 │\u001B[39;00m\n\u001B[32m    249\u001B[39m \u001B[33;03m    │ ---  ┆ ---  │\u001B[39;00m\n\u001B[32m    250\u001B[39m \u001B[33;03m    │ f32  ┆ i64  │\u001B[39;00m\n\u001B[32m    251\u001B[39m \u001B[33;03m    ╞══════╪══════╡\u001B[39;00m\n\u001B[32m    252\u001B[39m \u001B[33;03m    │ 1.0  ┆ 3    │\u001B[39;00m\n\u001B[32m    253\u001B[39m \u001B[33;03m    │ 2.0  ┆ 4    │\u001B[39;00m\n\u001B[32m    254\u001B[39m \u001B[33;03m    └──────┴──────┘\u001B[39;00m\n\u001B[32m    255\u001B[39m \n\u001B[32m    256\u001B[39m \u001B[33;03m    Constructing a LazyFrame from a numpy ndarray, specifying column names:\u001B[39;00m\n\u001B[32m    257\u001B[39m \n\u001B[32m    258\u001B[39m \u001B[33;03m    >>> import numpy as np\u001B[39;00m\n\u001B[32m    259\u001B[39m \u001B[33;03m    >>> data = np.array([(1, 2), (3, 4)], dtype=np.int64)\u001B[39;00m\n\u001B[32m    260\u001B[39m \u001B[33;03m    >>> lf5 = pl.LazyFrame(data, schema=[\"a\", \"b\"], orient=\"col\")\u001B[39;00m\n\u001B[32m    261\u001B[39m \u001B[33;03m    >>> lf5.collect()\u001B[39;00m\n\u001B[32m    262\u001B[39m \u001B[33;03m    shape: (2, 2)\u001B[39;00m\n\u001B[32m    263\u001B[39m \u001B[33;03m    ┌─────┬─────┐\u001B[39;00m\n\u001B[32m    264\u001B[39m \u001B[33;03m    │ a   ┆ b   │\u001B[39;00m\n\u001B[32m    265\u001B[39m \u001B[33;03m    │ --- ┆ --- │\u001B[39;00m\n\u001B[32m    266\u001B[39m \u001B[33;03m    │ i64 ┆ i64 │\u001B[39;00m\n\u001B[32m    267\u001B[39m \u001B[33;03m    ╞═════╪═════╡\u001B[39;00m\n\u001B[32m    268\u001B[39m \u001B[33;03m    │ 1   ┆ 3   │\u001B[39;00m\n\u001B[32m    269\u001B[39m \u001B[33;03m    │ 2   ┆ 4   │\u001B[39;00m\n\u001B[32m    270\u001B[39m \u001B[33;03m    └─────┴─────┘\u001B[39;00m\n\u001B[32m    271\u001B[39m \n\u001B[32m    272\u001B[39m \u001B[33;03m    Constructing a LazyFrame from a list of lists, row orientation specified:\u001B[39;00m\n\u001B[32m    273\u001B[39m \n\u001B[32m    274\u001B[39m \u001B[33;03m    >>> data = [[1, 2, 3], [4, 5, 6]]\u001B[39;00m\n\u001B[32m    275\u001B[39m \u001B[33;03m    >>> lf6 = pl.LazyFrame(data, schema=[\"a\", \"b\", \"c\"], orient=\"row\")\u001B[39;00m\n\u001B[32m    276\u001B[39m \u001B[33;03m    >>> lf6.collect()\u001B[39;00m\n\u001B[32m    277\u001B[39m \u001B[33;03m    shape: (2, 3)\u001B[39;00m\n\u001B[32m    278\u001B[39m \u001B[33;03m    ┌─────┬─────┬─────┐\u001B[39;00m\n\u001B[32m    279\u001B[39m \u001B[33;03m    │ a   ┆ b   ┆ c   │\u001B[39;00m\n\u001B[32m    280\u001B[39m \u001B[33;03m    │ --- ┆ --- ┆ --- │\u001B[39;00m\n\u001B[32m    281\u001B[39m \u001B[33;03m    │ i64 ┆ i64 ┆ i64 │\u001B[39;00m\n\u001B[32m    282\u001B[39m \u001B[33;03m    ╞═════╪═════╪═════╡\u001B[39;00m\n\u001B[32m    283\u001B[39m \u001B[33;03m    │ 1   ┆ 2   ┆ 3   │\u001B[39;00m\n\u001B[32m    284\u001B[39m \u001B[33;03m    │ 4   ┆ 5   ┆ 6   │\u001B[39;00m\n\u001B[32m    285\u001B[39m \u001B[33;03m    └─────┴─────┴─────┘\u001B[39;00m\n\u001B[32m    286\u001B[39m \u001B[33;03m    \"\"\"\u001B[39;00m\n\u001B[32m    288\u001B[39m     _ldf: PyLazyFrame\n\u001B[32m    289\u001B[39m     _accessors: ClassVar[\u001B[38;5;28mset\u001B[39m[\u001B[38;5;28mstr\u001B[39m]] = \u001B[38;5;28mset\u001B[39m()\n",
      "\u001B[36mFile \u001B[39m\u001B[32m~\\PycharmProjects\\learning\\.venv\\Lib\\site-packages\\polars\\dependencies.py:293\u001B[39m, in \u001B[36mimport_optional\u001B[39m\u001B[34m(module_name, err_prefix, err_suffix, min_version, min_err_prefix, install_message)\u001B[39m\n\u001B[32m    286\u001B[39m         msg = (\n\u001B[32m    287\u001B[39m             \u001B[33mf\u001B[39m\u001B[33m\"\u001B[39m\u001B[38;5;132;01m{\u001B[39;00mmin_err_prefix\u001B[38;5;132;01m}\u001B[39;00m\u001B[33m \u001B[39m\u001B[38;5;132;01m{\u001B[39;00mmodule_root\u001B[38;5;132;01m}\u001B[39;00m\u001B[33m \u001B[39m\u001B[33m\"\u001B[39m\n\u001B[32m    288\u001B[39m             \u001B[33mf\u001B[39m\u001B[33m\"\u001B[39m\u001B[38;5;132;01m{\u001B[39;00m\u001B[33m'\u001B[39m\u001B[33m.\u001B[39m\u001B[33m'\u001B[39m.join(\u001B[38;5;28mstr\u001B[39m(v)\u001B[38;5;250m \u001B[39m\u001B[38;5;28;01mfor\u001B[39;00m\u001B[38;5;250m \u001B[39mv\u001B[38;5;250m \u001B[39m\u001B[38;5;129;01min\u001B[39;00m\u001B[38;5;250m \u001B[39mmin_version)\u001B[38;5;132;01m}\u001B[39;00m\u001B[33m or higher\u001B[39m\u001B[33m\"\u001B[39m\n\u001B[32m    289\u001B[39m             \u001B[33mf\u001B[39m\u001B[33m\"\u001B[39m\u001B[33m (found \u001B[39m\u001B[38;5;132;01m{\u001B[39;00m\u001B[33m'\u001B[39m\u001B[33m.\u001B[39m\u001B[33m'\u001B[39m.join(\u001B[38;5;28mstr\u001B[39m(v)\u001B[38;5;250m \u001B[39m\u001B[38;5;28;01mfor\u001B[39;00m\u001B[38;5;250m \u001B[39mv\u001B[38;5;250m \u001B[39m\u001B[38;5;129;01min\u001B[39;00m\u001B[38;5;250m \u001B[39mmod_version)\u001B[38;5;132;01m}\u001B[39;00m\u001B[33m)\u001B[39m\u001B[33m\"\u001B[39m\n\u001B[32m    290\u001B[39m         )\n\u001B[32m    291\u001B[39m         \u001B[38;5;28;01mraise\u001B[39;00m ModuleUpgradeRequiredError(msg)\n\u001B[32m--> \u001B[39m\u001B[32m293\u001B[39m \u001B[38;5;28;01mreturn\u001B[39;00m module\n",
      "\u001B[31mModuleNotFoundError\u001B[39m: GPU engine requested, but required package 'cudf_polars' not found.\nPlease install using the command `pip install cudf-polars-cu12` (or `pip install --extra-index-url=https://pypi.nvidia.com cudf-polars-cu11` if your system has a CUDA 11 driver)."
     ]
    }
   ],
   "execution_count": 71
  }
 ],
 "metadata": {
  "kernelspec": {
   "display_name": "Python 3",
   "language": "python",
   "name": "python3"
  },
  "language_info": {
   "codemirror_mode": {
    "name": "ipython",
    "version": 2
   },
   "file_extension": ".py",
   "mimetype": "text/x-python",
   "name": "python",
   "nbconvert_exporter": "python",
   "pygments_lexer": "ipython2",
   "version": "2.7.6"
  }
 },
 "nbformat": 4,
 "nbformat_minor": 5
}
