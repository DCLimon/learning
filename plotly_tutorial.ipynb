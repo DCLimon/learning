{
 "cells": [
  {
   "metadata": {},
   "cell_type": "markdown",
   "source": [
    "# Plotly Tutorial\n",
    "Taken from [YouTube video](https://www.youtube.com/watch?v=GGL6U0k8WYA) by Derek Banas\n",
    "\n",
    "## Imports & Setup\n",
    "\n",
    "* Seaborn only used for default datasets\n",
    "* `cufflinks` enables more native use plotting Pandas `df` in Plotly via the `.iplot()` method\n",
    "    * Pandas now supports use of a plotly backend"
   ],
   "id": "a71f6a60caa8f97c"
  },
  {
   "cell_type": "code",
   "id": "initial_id",
   "metadata": {
    "collapsed": true
   },
   "source": [
    "import numpy as np\n",
    "import pandas as pd\n",
    "import plotly.express as px\n",
    "import plotly.graph_objects as go\n",
    "import chart_studio.plotly as py\n",
    "import cufflinks as cf\n",
    "import seaborn as sns"
   ],
   "outputs": [],
   "execution_count": null
  },
  {
   "metadata": {},
   "cell_type": "code",
   "source": [
    "# Setup Plotly as pandas graphing backend\n",
    "pd.options.plotting.backend = \"plotly\""
   ],
   "id": "6e2b23d64dc8cb06",
   "outputs": [],
   "execution_count": null
  },
  {
   "metadata": {},
   "cell_type": "markdown",
   "source": [
    "## Basics\n",
    "\n",
    "### Main Idea\n",
    "\n",
    "`Seaborn` : `matplotlib` :: `plotly.express` : `plotly.graph_objects`\n",
    "\n",
    "### Make a basic plot\n",
    "\n",
    "* Define a numpy array with 50 rows x 4 columns\n",
    "* `df` from the `np.array`"
   ],
   "id": "24f1828b320d9f9a"
  },
  {
   "metadata": {},
   "cell_type": "code",
   "source": [
    "arr_1 = np.random.randn(50, 4)\n",
    "df_1 = pd.DataFrame(arr_1, columns=['A', 'B', 'C', 'D'])"
   ],
   "id": "58aca991a9dd39a5",
   "outputs": [],
   "execution_count": null
  },
  {
   "metadata": {},
   "cell_type": "markdown",
   "source": "Create a plot, with will automatically use the Plotly backend",
   "id": "403d3ae0aa6125d"
  },
  {
   "metadata": {},
   "cell_type": "code",
   "source": "df_1.plot()",
   "id": "fb957e1612ebcb71",
   "outputs": [],
   "execution_count": null
  },
  {
   "metadata": {},
   "cell_type": "markdown",
   "source": [
    "## Line plots\n",
    "\n",
    "Will use Plotly default `stocks` datasets"
   ],
   "id": "b9cc52f678a09f3a"
  },
  {
   "metadata": {},
   "cell_type": "code",
   "source": [
    "df_stocks = px.data.stocks()\n",
    "df_stocks"
   ],
   "id": "1fc49b1a5216c6b",
   "outputs": [],
   "execution_count": null
  },
  {
   "metadata": {},
   "cell_type": "markdown",
   "source": "Make a basic line plot of `$GOOG` price over time",
   "id": "592aafdfe6fea5a4"
  },
  {
   "metadata": {},
   "cell_type": "code",
   "source": [
    "px.line(\n",
    "    df_stocks,\n",
    "    x='date',\n",
    "    y='GOOG',\n",
    "    labels={'x': 'Date', 'y': 'Price'}\n",
    ")"
   ],
   "id": "d18855fab92331a4",
   "outputs": [],
   "execution_count": null
  },
  {
   "metadata": {},
   "cell_type": "markdown",
   "source": "Make a plot w/ lines for both `$GOOG` & `$AAPL`",
   "id": "1d98a0ba1747e6c5"
  },
  {
   "metadata": {},
   "cell_type": "code",
   "source": [
    "px.line(\n",
    "    df_stocks,\n",
    "    x='date',\n",
    "    y=['GOOG', 'AAPL'],\n",
    "    labels={'x': 'Date', 'y': 'Price'},\n",
    "    title='$AAPL vs. $GOOG'\n",
    ")"
   ],
   "id": "5735a037b2a145c0",
   "outputs": [],
   "execution_count": null
  },
  {
   "metadata": {},
   "cell_type": "markdown",
   "source": [
    "Create a similar plot using `graph_objects` rudiments\n",
    "* Can set different marker settings for each column of data\n",
    "* Set custom label to appear in legend"
   ],
   "id": "a8240bc12e55c68c"
  },
  {
   "metadata": {},
   "cell_type": "code",
   "source": [
    "def customized_lineplot():\n",
    "    # Make blank figure\n",
    "    fig = go.Figure()\n",
    "\n",
    "    # Line w/o markers for AAPL\n",
    "    fig.add_trace(\n",
    "        go.Scatter(\n",
    "            x=df_stocks['date'],\n",
    "            y=df_stocks['AAPL'],\n",
    "            mode='lines',  # Line w/o markers\n",
    "            name='$AAPL'  # Appears in legend\n",
    "        )\n",
    "    )\n",
    "\n",
    "    # Line w/ markers for AMZN\n",
    "    fig.add_trace(\n",
    "        go.Scatter(\n",
    "            x=df_stocks['date'],\n",
    "            y=df_stocks['AMZN'],\n",
    "            mode='lines+markers',  # Line w/o markers\n",
    "            name='$AMZN'  # Appears in legend\n",
    "        )\n",
    "    )\n",
    "\n",
    "    # Custom line styling for GOOG\n",
    "    fig.add_trace(\n",
    "        go.Scatter(\n",
    "            x=df_stocks['date'],\n",
    "            y=df_stocks['GOOG'],\n",
    "            mode='lines+markers',  # Line w/o markers\n",
    "            name='$GOOG',  # Appears in legend\n",
    "            line={\n",
    "                'color': 'firebrick',\n",
    "                'width': 2,\n",
    "                'dash': 'dashdot',\n",
    "            }\n",
    "        )\n",
    "    )\n",
    "\n",
    "    # Basic custom styling\n",
    "    # fig.update_layout(\n",
    "    #     title='Stock Price Data, 2018-2020',\n",
    "    #     xaxis_title='Date',\n",
    "    #     yaxis_title='Price',\n",
    "    # )\n",
    "\n",
    "    # Detailed custom styling\n",
    "    fig.update_layout(\n",
    "        xaxis={\n",
    "            'showline': True,\n",
    "            'showgrid': False,\n",
    "            'linecolor': 'rgb(204, 204, 204)',\n",
    "            'linewidth': 2,\n",
    "            'showticklabels': True,\n",
    "            'ticks': 'outside',\n",
    "            'tickfont': {\n",
    "                'family': 'Arial',\n",
    "                'size': 12,\n",
    "                'color': 'rgb(82, 82, 82)',\n",
    "            },\n",
    "        },\n",
    "        yaxis=dict(\n",
    "            showgrid=False,\n",
    "            zeroline=False,\n",
    "            showline=False,\n",
    "            showticklabels=False,\n",
    "        ),\n",
    "        autosize=False,  # On by default\n",
    "        margin=dict(\n",
    "            autoexpand=False,  # Turn off autosizing\n",
    "            l=100, r=100, t=100, b=100  # Left, right, top, bottom\n",
    "        ),\n",
    "        showlegend=True,\n",
    "        plot_bgcolor='white',\n",
    "    )\n",
    "\n",
    "    return fig\n",
    "\n",
    "\n",
    "customized_lineplot()"
   ],
   "id": "57807afcbc0dc2ef",
   "outputs": [],
   "execution_count": null
  },
  {
   "metadata": {},
   "cell_type": "markdown",
   "source": [
    "## Bar charts\n",
    "\n",
    "Plotly `gapminder` dataset shows population data by country"
   ],
   "id": "423ea3db2bc9ce92"
  },
  {
   "metadata": {},
   "cell_type": "code",
   "source": [
    "df_us = px.data.gapminder().query('country == \"United States\"')\n",
    "df_us"
   ],
   "id": "20cab04aa8c0a39f",
   "outputs": [],
   "execution_count": null
  },
  {
   "metadata": {},
   "cell_type": "markdown",
   "source": "Graph population by year",
   "id": "68a301e294b012d1"
  },
  {
   "metadata": {},
   "cell_type": "code",
   "source": "px.bar(df_us, x='year', y='pop')",
   "id": "8452b36b4b42b922",
   "outputs": [],
   "execution_count": null
  },
  {
   "metadata": {},
   "cell_type": "markdown",
   "source": [
    "### Stacked bar chart\n",
    "\n",
    "Using tips dataset"
   ],
   "id": "9c20829275e994a5"
  },
  {
   "metadata": {},
   "cell_type": "code",
   "source": [
    "df_tips = px.data.tips()\n",
    "df_tips"
   ],
   "id": "9bfead0583e1820c",
   "outputs": [],
   "execution_count": null
  },
  {
   "metadata": {},
   "cell_type": "markdown",
   "source": "Make stacked bar chart",
   "id": "868b91378ff237ea"
  },
  {
   "metadata": {},
   "cell_type": "code",
   "source": [
    "px.bar(\n",
    "    df_tips,\n",
    "    x='day',\n",
    "    y='tip',\n",
    "    color='sex',  # Shade by server sex\n",
    "    title='Daily tips by sex',\n",
    "    labels={  # Change labels on legend/hover\n",
    "        'tip': 'Tip amount ($)',\n",
    "        'day': 'Day of week',\n",
    "    }\n",
    ")"
   ],
   "id": "bc4e83bb962a3ef7",
   "outputs": [],
   "execution_count": null
  },
  {
   "metadata": {},
   "cell_type": "markdown",
   "source": "Stacked barchart with grouped bars",
   "id": "d84ecbff89360a50"
  },
  {
   "metadata": {},
   "cell_type": "code",
   "source": [
    "px.bar(\n",
    "    df_tips,\n",
    "    x='sex',\n",
    "    y='total_bill',\n",
    "    color='smoker',\n",
    "    barmode='group',\n",
    ")"
   ],
   "id": "b6c408af36ae2761",
   "outputs": [],
   "execution_count": null
  },
  {
   "metadata": {},
   "cell_type": "markdown",
   "source": [
    "### Another example\n",
    "\n",
    "Population by country in Europe for 2007, for countries w/ at least 2M people"
   ],
   "id": "435965f8b14cfccd"
  },
  {
   "metadata": {},
   "cell_type": "code",
   "source": [
    "df_euro = px.data.gapminder().query('continent == \"Europe\" and year == 2007 and pop >= 2e6')\n",
    "df_euro"
   ],
   "id": "471fcfc778c9a3e3",
   "outputs": [],
   "execution_count": null
  },
  {
   "metadata": {},
   "cell_type": "markdown",
   "source": "",
   "id": "5afba9a6e82cc8b7"
  },
  {
   "metadata": {},
   "cell_type": "code",
   "source": [
    "def customized_barplot():\n",
    "    fig = px.bar(\n",
    "        df_euro,\n",
    "        x='country',\n",
    "        y='pop',\n",
    "        color='country',  # Color by country\n",
    "        text='pop'  # Text to display country's population on hover\n",
    "    )\n",
    "\n",
    "    # Custom formatting for population text pop-upa\n",
    "    fig.update_traces(\n",
    "        texttemplate='%{text:.2s}',  # 'text' variable 2-digit string value, right aligned\n",
    "        textposition='outside',  # Text outside the bars\n",
    "    )\n",
    "\n",
    "    # Customize font settings\n",
    "    fig.update_layout(\n",
    "        uniformtext_minsize=8,  # All text font must be 8pt or greater\n",
    "        uniformtext_mode='hide',  # Hide text if 8pt font won't fit\n",
    "        # margin=dict(t=5),\n",
    "        xaxis_tickangle=-45,  # Set angles for tick labels\n",
    "    )\n",
    "\n",
    "    return fig\n",
    "\n",
    "\n",
    "customized_barplot()"
   ],
   "id": "cf330b64b6c47e51",
   "outputs": [],
   "execution_count": null
  },
  {
   "metadata": {},
   "cell_type": "markdown",
   "source": [
    "## Scatterplots\n",
    "\n",
    "Using `iris` dataset"
   ],
   "id": "219d861bcc5bc049"
  },
  {
   "metadata": {},
   "cell_type": "code",
   "source": [
    "df_iris = px.data.iris()\n",
    "df_iris"
   ],
   "id": "97cc31a5353740b6",
   "outputs": [],
   "execution_count": null
  },
  {
   "metadata": {},
   "cell_type": "markdown",
   "source": [
    "Scatterplot of\n",
    "* $\\texttt{sepal\\_width} = f(\\texttt{sepal\\_width})$\n",
    "* color by `species`\n",
    "* $size \\sim \\texttt{petal\\_length}$\n",
    "* `petal_width` shown on cursor hover"
   ],
   "id": "ddf2ecca6d1884ee"
  },
  {
   "metadata": {},
   "cell_type": "code",
   "source": [
    "px.scatter(\n",
    "    df_iris,\n",
    "    x='sepal_width',\n",
    "    y='sepal_length',\n",
    "    color='species',\n",
    "    size='petal_length',\n",
    "    hover_data=['petal_width']\n",
    ")"
   ],
   "id": "e025a808506f40a2",
   "outputs": [],
   "execution_count": null
  },
  {
   "metadata": {},
   "cell_type": "markdown",
   "source": "Additional customization options",
   "id": "ee5e5e920f45f0df"
  },
  {
   "metadata": {},
   "cell_type": "code",
   "source": [
    "def customized_scatterplot():\n",
    "    fig = go.Figure()\n",
    "\n",
    "    fig.add_trace(\n",
    "        # Trace will be a scatterplot\n",
    "        go.Scatter(\n",
    "            x=df_iris['sepal_width'],\n",
    "            y=df_iris['sepal_length'],\n",
    "            mode='markers',\n",
    "            marker_color=df_iris['sepal_width'],\n",
    "            marker=dict(showscale=True),\n",
    "            text=df_iris['species'],\n",
    "        )\n",
    "    )\n",
    "\n",
    "    fig.update_traces(\n",
    "        marker_line_width=2,\n",
    "        marker_size=10\n",
    "    )\n",
    "\n",
    "    return fig\n",
    "\n",
    "\n",
    "customized_scatterplot()"
   ],
   "id": "cab402ab3e60febd",
   "outputs": [],
   "execution_count": null
  },
  {
   "metadata": {},
   "cell_type": "markdown",
   "source": "Use `go.Scattergl()` when doing scatterplots for large volume of data",
   "id": "7c66c3a399371886"
  },
  {
   "metadata": {},
   "cell_type": "code",
   "source": [
    "def big_data_scatterplot():\n",
    "    fig = go.Figure(\n",
    "        data=go.Scattergl(\n",
    "            x=np.random.randn(100_000),\n",
    "            y=np.random.randn(100_000),\n",
    "            mode='markers',\n",
    "            marker=dict(\n",
    "                color=np.random.randn(100_000),\n",
    "                colorscale='Viridis',  # Custom cmap\n",
    "                line_width=1\n",
    "            )\n",
    "        )\n",
    "    )\n",
    "\n",
    "    return fig\n",
    "\n",
    "\n",
    "big_data_scatterplot()"
   ],
   "id": "da46c3fb8fd2c325",
   "outputs": [],
   "execution_count": null
  },
  {
   "metadata": {},
   "cell_type": "markdown",
   "source": [
    "## Pie charts\n",
    "\n",
    "Use `gapminder` dataset to make chart of largest nations in Asia as of 2007\n",
    "\n",
    "Built-in color scales can be found in [Plotly docs](https://plotly.com/python/builtin-colorscales/)"
   ],
   "id": "7acb27f53b25d60c"
  },
  {
   "metadata": {},
   "cell_type": "code",
   "source": [
    "df_asia = px.data.gapminder().query('year == 2007').query('continent == \"Asia\"')\n",
    "df_asia"
   ],
   "id": "21a4b5f799cbf6f1",
   "outputs": [],
   "execution_count": null
  },
  {
   "metadata": {},
   "cell_type": "markdown",
   "source": "Create pie chart",
   "id": "91c6f551cd6c3a8f"
  },
  {
   "metadata": {},
   "cell_type": "code",
   "source": [
    "px.pie(\n",
    "    df_asia,\n",
    "    values='pop',\n",
    "    names='country',\n",
    "    title='Asia: population by country',\n",
    "    color_discrete_sequence=px.colors.sequential.RdBu,\n",
    ")"
   ],
   "id": "d42d005e8bf2b24b",
   "outputs": [],
   "execution_count": null
  },
  {
   "metadata": {},
   "cell_type": "markdown",
   "source": "Custom pie chart",
   "id": "c887a2697d8797ed"
  },
  {
   "metadata": {},
   "cell_type": "code",
   "source": [
    "def customized_piechart():\n",
    "    # Custom color sequence\n",
    "    colors = ['blue', 'green', 'black', 'purple', 'red', 'brown']\n",
    "\n",
    "    # Will create the data inside an array\n",
    "    fig = go.Figure(\n",
    "        data=[go.Pie(\n",
    "            labels=['Water', 'Grass', 'Normal', 'Psychic', 'Fire', 'Ground'],\n",
    "            values=[110, 90, 80, 80, 70, 60]\n",
    "        )]\n",
    "    )\n",
    "\n",
    "    fig.update_traces(\n",
    "        hoverinfo='label+percent',  # Display label & pct on cursor hover\n",
    "        textinfo='label+percent',  # Dispay label & pct in slices\n",
    "        textfont_size=20,\n",
    "\n",
    "        # Pull slices to show them separately from rest of the pie\n",
    "        pull=[\n",
    "            # Pull 1st element (water) out 10%, 3rd (Normal) out 20%, rest left connected to the pie\n",
    "            0.1, 0, 0.2, 0, 0, 0,\n",
    "        ],\n",
    "\n",
    "        # marker contains settings for the slices\n",
    "        marker=dict(\n",
    "            colors=colors,\n",
    "\n",
    "            # Settings for outline of each pie slice\n",
    "            line=dict(\n",
    "                color='#FFFFFF',\n",
    "                width=2,\n",
    "            )\n",
    "        )\n",
    "    )\n",
    "\n",
    "    return fig\n",
    "\n",
    "\n",
    "customized_piechart()"
   ],
   "id": "b3ccade21a3fa0d3",
   "outputs": [],
   "execution_count": null
  },
  {
   "metadata": {},
   "cell_type": "markdown",
   "source": [
    "## Histograms\n",
    "\n",
    "Generate rolls of 2 6-sided dice"
   ],
   "id": "17ef48dfa20566ba"
  },
  {
   "metadata": {},
   "cell_type": "code",
   "source": [
    "# 5000 rolls each\n",
    "die_1 = np.random.randint(1, 7, 5000)\n",
    "die_2 = np.random.randint(1, 7, 5000)\n",
    "dice_sum = die_1 + die_2"
   ],
   "id": "ae778048130ae452",
   "outputs": [],
   "execution_count": null
  },
  {
   "metadata": {},
   "cell_type": "code",
   "source": [
    "def customized_histogram():\n",
    "    fig = px.histogram(\n",
    "        dice_sum,\n",
    "        nbins=11,  # 11 possible 2-dice sums\n",
    "        labels={'value': 'Dice roll'},\n",
    "        title='5000 dice roll histogram',\n",
    "        marginal='violin',  # Violin plot in margins\n",
    "        color_discrete_sequence=['green']\n",
    "    )\n",
    "\n",
    "    fig.update_layout(\n",
    "        xaxis_title_text='Number of rolls',\n",
    "        yaxis_title_text='Dice sum',\n",
    "        bargap=0.2,  # Space bins; atypical for histogram\n",
    "        showlegend=False,\n",
    "    )\n",
    "\n",
    "    return fig\n",
    "\n",
    "\n",
    "customized_histogram()"
   ],
   "id": "3df9060e5b5e85db",
   "outputs": [],
   "execution_count": null
  },
  {
   "metadata": {},
   "cell_type": "markdown",
   "source": "Stacked histogram",
   "id": "5ae89de8a50e82de"
  },
  {
   "metadata": {},
   "cell_type": "code",
   "source": [
    "px.histogram(\n",
    "    df_tips,\n",
    "    x='total_bill',\n",
    "    color='sex'\n",
    ")"
   ],
   "id": "69be3660bdcb4a2",
   "outputs": [],
   "execution_count": null
  },
  {
   "metadata": {},
   "cell_type": "markdown",
   "source": "## Boxplots",
   "id": "b4294adffb05eae0"
  },
  {
   "metadata": {},
   "cell_type": "code",
   "source": [
    "px.box(\n",
    "    df_tips,\n",
    "    x='sex',\n",
    "    y='tip',\n",
    "    points='all'  # Vertical scatterplot of all tip amounts next to boxes\n",
    ")"
   ],
   "id": "2640739b608ee1d1",
   "outputs": [],
   "execution_count": null
  },
  {
   "metadata": {},
   "cell_type": "markdown",
   "source": [
    "**Categorical boxplots**\n",
    "\n",
    "Tip ranges by day"
   ],
   "id": "98df09a86fba75c5"
  },
  {
   "metadata": {},
   "cell_type": "code",
   "source": [
    "px.box(\n",
    "    df_tips,\n",
    "    x='day',\n",
    "    y='tip',\n",
    "    color='sex'\n",
    ")"
   ],
   "id": "9e47cb7fa835ceed",
   "outputs": [],
   "execution_count": null
  },
  {
   "metadata": {},
   "cell_type": "markdown",
   "source": "Custom boxplot",
   "id": "92c173be30b3a723"
  },
  {
   "metadata": {},
   "cell_type": "code",
   "source": [
    "def customized_boxplot_tips():\n",
    "    fig = go.Figure()\n",
    "\n",
    "    fig.add_trace(\n",
    "        go.Box(\n",
    "            x=df_tips['sex'],\n",
    "            y=df_tips['tip'],\n",
    "            marker_color='blue',\n",
    "            boxmean='sd'  # Draws on overlapped box for mean/SD\n",
    "        )\n",
    "    )\n",
    "\n",
    "    return fig\n",
    "\n",
    "\n",
    "customized_boxplot_tips()"
   ],
   "id": "c983497bc4883dd0",
   "outputs": [],
   "execution_count": null
  },
  {
   "metadata": {},
   "cell_type": "markdown",
   "source": "More complex custom boxplot",
   "id": "c6d94102332cd08e"
  },
  {
   "metadata": {},
   "cell_type": "code",
   "source": [
    "def customized_boxplot_stocks():\n",
    "    fig = go.Figure()\n",
    "\n",
    "    fig.add_trace(\n",
    "        go.Box(\n",
    "            y=df_stocks['GOOG'],\n",
    "            boxpoints='all',\n",
    "            fillcolor='blue',\n",
    "            jitter=0.5,  # Prevents overlapping points\n",
    "            whiskerwidth=0.2\n",
    "        )\n",
    "    )\n",
    "\n",
    "    fig.add_trace(\n",
    "        go.Box(\n",
    "            y=df_stocks['AAPL'],\n",
    "            boxpoints='all',\n",
    "            fillcolor='red',\n",
    "            jitter=0.5,  # Prevents overlapping points\n",
    "            whiskerwidth=0.2\n",
    "        )\n",
    "    )\n",
    "\n",
    "    fig.update_layout(\n",
    "        title='$GOOG vs. $AAPL',\n",
    "        yaxis=dict(\n",
    "            gridcolor='rgb(255, 255, 255)',\n",
    "            gridwidth=3,\n",
    "        ),\n",
    "        paper_bgcolor='rgb(243, 243, 243)',  # Background color of the itself\n",
    "        plot_bgcolor='lightgray',\n",
    "    )\n",
    "\n",
    "    return fig\n",
    "\n",
    "\n",
    "customized_boxplot_stocks()"
   ],
   "id": "7eee2365e2d50cc4",
   "outputs": [],
   "execution_count": null
  },
  {
   "metadata": {},
   "cell_type": "markdown",
   "source": [
    "## Violin Plots\n",
    "\n",
    "Basic plot"
   ],
   "id": "a03f0b8295aac588"
  },
  {
   "metadata": {},
   "cell_type": "code",
   "source": [
    "px.violin(\n",
    "    df_tips,\n",
    "    y='total_bill',\n",
    "    box=True,  # Embeds a boxplot within the violin\n",
    "    points='all',\n",
    ")"
   ],
   "id": "46ba5cae79164b7b",
   "outputs": [],
   "execution_count": null
  },
  {
   "metadata": {},
   "cell_type": "markdown",
   "source": "More complex plot",
   "id": "9205d07319110d98"
  },
  {
   "metadata": {},
   "cell_type": "code",
   "source": [
    "px.violin(\n",
    "    df_tips,\n",
    "    x='smoker',\n",
    "    y='tip',\n",
    "    color='sex',\n",
    "    box=True,\n",
    "    points='all',\n",
    "    hover_data=df_tips.columns  # Display all column medians by category when hovering\n",
    ")"
   ],
   "id": "9732e6d71f3a8fb1",
   "outputs": [],
   "execution_count": null
  },
  {
   "metadata": {},
   "cell_type": "markdown",
   "source": [
    "### Custom plot\n",
    "\n",
    "Note that for the filtering, the tutorial uses a suboptimal method that omits `.loc`:\n",
    "* **No:**\n",
    "    * ~~`df_tips['day'][df_tips['smoker'] == 'Yes']`~~\n",
    "* **Yes:**\n",
    "    * `df_tips.loc[df_tips['smoker'] == 'Yes', 'day']`"
   ],
   "id": "82dbca9b4a2572f2"
  },
  {
   "metadata": {},
   "cell_type": "code",
   "source": [
    "def customized_violinplot():\n",
    "    fig = go.Figure()\n",
    "\n",
    "    fig.add_trace(\n",
    "        go.Violin(\n",
    "            x=df_tips['day'][df_tips['smoker'] == 'Yes'],  # 2nd filtering query\n",
    "            y=df_tips['total_bill'][df_tips['smoker'] == 'Yes'],\n",
    "            legendgroup='Yes',\n",
    "            scalegroup='Yes',\n",
    "            name='Smoker',\n",
    "            side='negative',  # This trace will be the left half of each violin\n",
    "            line=dict(color='red'),\n",
    "        )\n",
    "    )\n",
    "\n",
    "    fig.add_trace(\n",
    "        go.Violin(\n",
    "            x=df_tips['day'][df_tips['smoker'] == 'No'],  # 2nd filtering query\n",
    "            y=df_tips['total_bill'][df_tips['smoker'] == 'No'],\n",
    "            legendgroup='No',\n",
    "            scalegroup='No',\n",
    "            name='Non-smoker',\n",
    "            side='positive',  # This trace will be the right half of each violin\n",
    "            line=dict(color='blue'),\n",
    "        )\n",
    "    )\n",
    "\n",
    "    return fig\n",
    "\n",
    "\n",
    "customized_violinplot()"
   ],
   "id": "84fed816e5382114",
   "outputs": [],
   "execution_count": null
  },
  {
   "metadata": {},
   "cell_type": "code",
   "source": "df_tips['day'][df_tips['smoker'] == 'No']",
   "id": "851753d976a4dbd1",
   "outputs": [],
   "execution_count": null
  },
  {
   "metadata": {},
   "cell_type": "markdown",
   "source": [
    "## Density Heatmaps\n",
    "\n",
    "Using Seaborn `flights` dataset\n",
    "\n",
    "While, it will not be shown, # of bins can be edited with the following keywords:\n",
    "* x-axis bins: `nbinsx`\n",
    "* y-axis bins: `nbinsy`"
   ],
   "id": "b0f92a87171995f9"
  },
  {
   "metadata": {},
   "cell_type": "code",
   "source": [
    "flights = sns.load_dataset('flights')\n",
    "flights"
   ],
   "id": "b4b8dec463e7ce3f",
   "outputs": [],
   "execution_count": null
  },
  {
   "metadata": {},
   "cell_type": "markdown",
   "source": [
    "Basic heatmap\n",
    "* x-axis: year of flight\n",
    "* y-axis: month of flight\n",
    "* heat color: # of pax"
   ],
   "id": "1ce46258cf65bf58"
  },
  {
   "metadata": {},
   "cell_type": "code",
   "source": [
    "px.density_heatmap(\n",
    "    flights,\n",
    "    x='year',\n",
    "    y='month',\n",
    "    z='passengers',\n",
    "    color_continuous_scale='Viridis',\n",
    ")"
   ],
   "id": "da6ee3cbbbd0db6f",
   "outputs": [],
   "execution_count": null
  },
  {
   "metadata": {},
   "cell_type": "markdown",
   "source": [
    "Add histograms in each margin\n",
    "* `plotly.express` API does not allow both marginal histograms & custom color scale"
   ],
   "id": "13c7c4d148c3eca7"
  },
  {
   "metadata": {},
   "cell_type": "code",
   "source": [
    "px.density_heatmap(\n",
    "    flights,\n",
    "    x='year',\n",
    "    y='month',\n",
    "    z='passengers',\n",
    "    marginal_x='histogram',  # Show x-axis\n",
    "    marginal_y='histogram',\n",
    ")"
   ],
   "id": "5a67c4f4881306cf",
   "outputs": [],
   "execution_count": null
  },
  {
   "metadata": {},
   "cell_type": "markdown",
   "source": "## 3-D Scatterplots",
   "id": "8b623d3f01382217"
  },
  {
   "metadata": {},
   "cell_type": "code",
   "source": [
    "px.scatter_3d(\n",
    "    flights,\n",
    "    x='year',\n",
    "    y='month',\n",
    "    z='passengers',\n",
    "    color='year',\n",
    "    opacity=0.7  # Scatter points won't fully occlude each other\n",
    ")"
   ],
   "id": "c9be9ac700a2cd87",
   "outputs": [],
   "execution_count": null
  },
  {
   "metadata": {},
   "cell_type": "markdown",
   "source": "## 3-D Lineplots",
   "id": "ec4c72c06e6b9ca1"
  },
  {
   "metadata": {},
   "cell_type": "code",
   "source": [
    "## 3-D Scatterplots\n",
    "px.line_3d(\n",
    "    flights,\n",
    "    x='year',\n",
    "    y='month',\n",
    "    z='passengers',\n",
    "    color='year',\n",
    ")"
   ],
   "id": "d48c692ab7d6e0d",
   "outputs": [],
   "execution_count": null
  },
  {
   "metadata": {},
   "cell_type": "markdown",
   "source": "## Scatter matrix",
   "id": "d1b2327aeeed4cb0"
  },
  {
   "metadata": {},
   "cell_type": "code",
   "source": "px.scatter_matrix(flights, color='month')",
   "id": "ef33f5776048ce67",
   "outputs": [],
   "execution_count": null
  },
  {
   "metadata": {},
   "cell_type": "markdown",
   "source": "## Map scatter plots",
   "id": "1dc37c0c45afaed4"
  },
  {
   "metadata": {},
   "cell_type": "code",
   "source": "px.data.gapminder().query('year == 2007')",
   "id": "d3320f71f669bf58",
   "outputs": [],
   "execution_count": null
  },
  {
   "metadata": {},
   "cell_type": "code",
   "source": [
    "px.scatter_geo(\n",
    "    px.data.gapminder().query('year == 2007'),\n",
    "    locations='iso_alpha',\n",
    "    color='continent',\n",
    "    hover_name='country',\n",
    "    size='pop',  # Marker size correlated to country pop\n",
    "    projection='orthographic'  # Map projection; 'orthographic' gives a spinnable globe\n",
    ")"
   ],
   "id": "953ebee1cc5ae017",
   "outputs": [],
   "execution_count": null
  },
  {
   "metadata": {},
   "cell_type": "markdown",
   "source": [
    "## Choropleth Map\n",
    "\n",
    "Map w/ shaded regions as a heatmap of magnitude\n",
    "\n",
    "* *choros* = area\n",
    "* *pleth* = multitude\n",
    "\n",
    "Will use unemployment data via a JSON download from Plotly GitHub"
   ],
   "id": "3094221f69bccd87"
  },
  {
   "metadata": {},
   "cell_type": "code",
   "source": [
    "import json\n",
    "from urllib.request import urlopen\n",
    "\n",
    "# US county geometry data\n",
    "with urlopen('https://raw.githubusercontent.com/plotly/datasets/refs/heads/master/geojson-counties-fips.json') as response:\n",
    "    counties = json.load(response)\n",
    "\n",
    "# US county unemployment data (FIPS = numerical county code)\n",
    "df_unemp = pd.read_csv(\n",
    "    'https://raw.githubusercontent.com/plotly/datasets/refs/heads/master/fips-unemp-16.csv',\n",
    "    # dtype={'fips': str}\n",
    ")\n",
    "\n",
    "df_unemp"
   ],
   "id": "4f18f64af64aa6d6",
   "outputs": [],
   "execution_count": null
  },
  {
   "metadata": {},
   "cell_type": "markdown",
   "source": "Draw basic choropleth",
   "id": "117bdde1e420ce04"
  },
  {
   "metadata": {},
   "cell_type": "code",
   "source": [
    "px.choropleth(\n",
    "    df_unemp,\n",
    "    geojson=counties,\n",
    "    locations='fips',\n",
    "    color='unemp',\n",
    "    color_continuous_scale='Viridis',\n",
    "    range_color=(0, 12),\n",
    "    scope='usa',\n",
    "    labels={'unemp': 'Unemployment rate'},\n",
    ")"
   ],
   "id": "b0725fbc957908b4",
   "outputs": [],
   "execution_count": null
  },
  {
   "metadata": {},
   "cell_type": "markdown",
   "source": [
    "## Polar Charts\n",
    "\n",
    "Will display wind data using polar coordinates"
   ],
   "id": "53dc031806683a31"
  },
  {
   "metadata": {},
   "cell_type": "code",
   "source": [
    "df_wind = px.data.wind()\n",
    "df_wind"
   ],
   "id": "df9dfd16448ec234",
   "outputs": [],
   "execution_count": null
  },
  {
   "metadata": {},
   "cell_type": "markdown",
   "source": "Draw basic polar plot",
   "id": "f18b4f00bf0dc683"
  },
  {
   "metadata": {},
   "cell_type": "code",
   "source": [
    "px.scatter_polar(\n",
    "    df_wind,\n",
    "    r='frequency',\n",
    "    theta='direction',\n",
    "    color='strength',\n",
    "    size='frequency',\n",
    "    symbol='strength'\n",
    ")"
   ],
   "id": "deda1a9b78610d45",
   "outputs": [],
   "execution_count": null
  },
  {
   "metadata": {},
   "cell_type": "code",
   "source": [
    "px.line_polar(\n",
    "    df_wind,\n",
    "    r='frequency',\n",
    "    theta='direction',\n",
    "    color='strength',\n",
    "    line_close=True,  # Lines should form a closed polygon 360 degrees\n",
    "    template='plotly_dark'\n",
    ")"
   ],
   "id": "fe50389071a07956",
   "outputs": [],
   "execution_count": null
  },
  {
   "metadata": {},
   "cell_type": "markdown",
   "source": [
    "## Ternary Plots\n",
    "\n",
    "To represent data across 3 groups, will use the `experiment` dataset\n",
    "* Consists of 3 experimental groups in a repeated-measures design"
   ],
   "id": "41f64f618621f88c"
  },
  {
   "metadata": {},
   "cell_type": "code",
   "source": [
    "df_exp = px.data.experiment()\n",
    "df_exp"
   ],
   "id": "652d3ff04a08656f",
   "outputs": [],
   "execution_count": null
  },
  {
   "metadata": {},
   "cell_type": "code",
   "source": [
    "px.scatter_ternary(\n",
    "    df_exp,\n",
    "    a='experiment_1',\n",
    "    b='experiment_2',\n",
    "    c='experiment_3',\n",
    "    hover_name='group',\n",
    "    color='gender'\n",
    ")"
   ],
   "id": "14ca17bfa8561028",
   "outputs": [],
   "execution_count": null
  },
  {
   "metadata": {},
   "cell_type": "markdown",
   "source": "## Facet plots",
   "id": "3ef44289bcac574a"
  },
  {
   "metadata": {},
   "cell_type": "code",
   "source": [
    "px.scatter(\n",
    "    df_tips,\n",
    "    x='total_bill',\n",
    "    y='tip',\n",
    "    color='smoker',\n",
    "    facet_col='sex'\n",
    ")"
   ],
   "id": "50525209c79c89d3",
   "outputs": [],
   "execution_count": null
  },
  {
   "metadata": {},
   "cell_type": "code",
   "source": [
    "px.histogram(\n",
    "    df_tips,\n",
    "    x='total_bill',\n",
    "    y='tip',\n",
    "    color='sex',\n",
    "    facet_row='time',\n",
    "    facet_col='day',\n",
    "    category_orders={'day': ['Thur', 'Fri', 'Sat', 'Sun'],\n",
    "                     'time': ['Lunch', 'Dinner']}\n",
    ")"
   ],
   "id": "8989508102b54bc0",
   "outputs": [],
   "execution_count": null
  },
  {
   "metadata": {},
   "cell_type": "markdown",
   "source": "Seaborn `attention` dataset",
   "id": "b6cec23ea7db95d0"
  },
  {
   "metadata": {},
   "cell_type": "code",
   "source": [
    "df_att = sns.load_dataset('attention')\n",
    "df_att"
   ],
   "id": "e176f80e9170f666",
   "outputs": [],
   "execution_count": null
  },
  {
   "metadata": {},
   "cell_type": "code",
   "source": [
    "px.line(\n",
    "    df_att,\n",
    "    x='solutions',\n",
    "    y='score',\n",
    "    facet_col='subject',\n",
    "    facet_col_wrap=5,  # Wrap every 5 subjects\n",
    "    title='Scores vs. Attention'\n",
    ")"
   ],
   "id": "2f69fb11e0a99626",
   "outputs": [],
   "execution_count": null
  },
  {
   "metadata": {},
   "cell_type": "markdown",
   "source": "## Animated Plots",
   "id": "50ac3a9bdc8ec758"
  },
  {
   "metadata": {},
   "cell_type": "code",
   "source": [
    "df_country = px.data.gapminder()\n",
    "df_country"
   ],
   "id": "28e1cd09cbe103a",
   "outputs": [],
   "execution_count": null
  },
  {
   "metadata": {},
   "cell_type": "code",
   "source": [
    "px.scatter(\n",
    "    df_country,\n",
    "    x='gdpPercap',\n",
    "    y='lifeExp',\n",
    "    animation_frame='year',\n",
    "    animation_group='country',\n",
    "    size='pop',\n",
    "    color='continent',\n",
    "    hover_name='country',\n",
    "    log_x=True,  # log-scale GDP\n",
    "    size_max=55,\n",
    "    range_x=[100, 1e5],\n",
    "    range_y=[25, 90]\n",
    ")"
   ],
   "id": "17ec926ae4de2e59",
   "outputs": [],
   "execution_count": null
  },
  {
   "metadata": {},
   "cell_type": "code",
   "source": [
    "px.bar(\n",
    "    df_country,\n",
    "    x='continent',\n",
    "    y='pop',\n",
    "    color='continent',\n",
    "    animation_frame='year',\n",
    "    animation_group='country',\n",
    "    hover_name='country',\n",
    "    range_y=[0, 4e9]\n",
    ")"
   ],
   "id": "e4a3e9ee4edb81a0",
   "outputs": [],
   "execution_count": null
  }
 ],
 "metadata": {
  "kernelspec": {
   "display_name": "Python 3",
   "language": "python",
   "name": "python3"
  },
  "language_info": {
   "codemirror_mode": {
    "name": "ipython",
    "version": 2
   },
   "file_extension": ".py",
   "mimetype": "text/x-python",
   "name": "python",
   "nbconvert_exporter": "python",
   "pygments_lexer": "ipython2",
   "version": "2.7.6"
  }
 },
 "nbformat": 4,
 "nbformat_minor": 5
}
